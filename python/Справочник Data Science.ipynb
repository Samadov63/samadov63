{
 "cells": [
  {
   "cell_type": "code",
   "execution_count": null,
   "metadata": {},
   "outputs": [],
   "source": [
    "#Импорт csv Данных\n",
    "\n",
    "df = pd.read_csv(r'C:\\Users\\HP\\Downloads\\Telegram Desktop\\countries.csv')\n",
    "df"
   ]
  },
  {
   "cell_type": "code",
   "execution_count": null,
   "metadata": {},
   "outputs": [],
   "source": [
    "#Визуализация \n",
    "data['city'].value_counts().plot(kind = 'pie', figsize = (25, 10))"
   ]
  },
  {
   "cell_type": "code",
   "execution_count": null,
   "metadata": {},
   "outputs": [],
   "source": [
    "\n",
    "#Выводит количество обектов по заданному условию\n",
    "data[(data['Year'] > 1900) & (data['Country'] == 'USA') ].value_counts((data['Medal']))"
   ]
  },
  {
   "cell_type": "code",
   "execution_count": null,
   "metadata": {},
   "outputs": [],
   "source": [
    "#Вывод на экран первые 5 строки массива\n",
    "df.head(5)\n"
   ]
  },
  {
   "cell_type": "code",
   "execution_count": null,
   "metadata": {},
   "outputs": [],
   "source": [
    "#Вывод на экран последние 5 строк массива\n",
    "df.tail(5)"
   ]
  },
  {
   "cell_type": "code",
   "execution_count": null,
   "metadata": {},
   "outputs": [],
   "source": [
    "#Вывод информации о количество строк и столбцов\n",
    "df.shape"
   ]
  },
  {
   "cell_type": "code",
   "execution_count": null,
   "metadata": {},
   "outputs": [],
   "source": [
    "#Типы данных в массиве\n",
    "df.dtypes"
   ]
  },
  {
   "cell_type": "code",
   "execution_count": null,
   "metadata": {},
   "outputs": [],
   "source": [
    "#Поиск одной строки в массиве\n",
    "df[df['id'] == 302672]"
   ]
  },
  {
   "cell_type": "code",
   "execution_count": null,
   "metadata": {},
   "outputs": [],
   "source": [
    "#Вывод строки массива по индексу\n",
    "df.iloc[[4]]\n",
    "df.iloc[0:2, 1:5]"
   ]
  },
  {
   "cell_type": "code",
   "execution_count": null,
   "metadata": {},
   "outputs": [],
   "source": [
    "#Вывод строк или столбцов в звисимости от интервала аргументов\n",
    "df.loc[1,['id']]\n",
    "df.loc[0:4, 'name':'wikipedia_link']"
   ]
  },
  {
   "cell_type": "code",
   "execution_count": null,
   "metadata": {},
   "outputs": [],
   "source": [
    "#Вывод уникальных значений столбца массива\n",
    "df['continent'].unique()"
   ]
  },
  {
   "cell_type": "code",
   "execution_count": null,
   "metadata": {},
   "outputs": [],
   "source": [
    "#Вывод массива с условием\n",
    "df[df['id']>300000]"
   ]
  },
  {
   "cell_type": "code",
   "execution_count": null,
   "metadata": {},
   "outputs": [],
   "source": [
    "#Вывод массива с двойным условием\n",
    "df[(df['id']<302618) & (df['name'] == 'Zambia')]"
   ]
  },
  {
   "cell_type": "code",
   "execution_count": null,
   "metadata": {},
   "outputs": [],
   "source": [
    "#Вывод описательной статистики массива \n",
    "df.describe(include = [np.object])"
   ]
  },
  {
   "cell_type": "code",
   "execution_count": null,
   "metadata": {},
   "outputs": [],
   "source": [
    "#Подсчёт обшего числа аргументов в задданом столбце массива\n",
    "df['id'].value_counts()\n",
    "d['cast'].value_counts()"
   ]
  },
  {
   "cell_type": "code",
   "execution_count": null,
   "metadata": {},
   "outputs": [],
   "source": [
    "#Корреляция в массиве\n",
    "df.corr()"
   ]
  },
  {
   "cell_type": "code",
   "execution_count": null,
   "metadata": {},
   "outputs": [],
   "source": [
    "#Образец случайных строк в массиве 0.1 == 10%\n",
    "df.sample(frac = 0.1)"
   ]
  },
  {
   "cell_type": "code",
   "execution_count": null,
   "metadata": {},
   "outputs": [],
   "source": [
    "#Группировка данных по указанной переменной или имени столбца\n",
    "df.groupby(['name']).groups\n",
    "\n",
    "df.groupby(['name']).first()"
   ]
  },
  {
   "cell_type": "code",
   "execution_count": null,
   "metadata": {},
   "outputs": [],
   "source": [
    "#Вывод средне арифметического данных столбца\n",
    "df.groupby(['name'])[['id']].mean()"
   ]
  },
  {
   "cell_type": "code",
   "execution_count": null,
   "metadata": {},
   "outputs": [],
   "source": [
    "#Выводит сумму или другие арифметические выражения столбца\n",
    "data.groupby(['video_id']).agg({'likes':[sum],'dislikes':[sum, max],'views':'first'})"
   ]
  },
  {
   "cell_type": "code",
   "execution_count": null,
   "metadata": {},
   "outputs": [],
   "source": [
    "#Комбинирование двух массивов\n",
    "pd.merge(data,df, right_on=['id'],\n",
    "         left_on = ['views'])"
   ]
  },
  {
   "cell_type": "code",
   "execution_count": null,
   "metadata": {},
   "outputs": [],
   "source": [
    "#\n",
    "d.set_index('title', inplace = True)\n",
    "data.set_index('title', inplace = True)\n",
    "d.join(data, lsuffix = 'title', rsuffix = 'title')"
   ]
  },
  {
   "cell_type": "code",
   "execution_count": null,
   "metadata": {},
   "outputs": [],
   "source": [
    "#Создание одномерных структур данных похожих на массив \n",
    "x = pd.Series([1,2,3,4], index = ['a','b','c','d'])\n",
    "x\n",
    "\n",
    "#Создание одномерных сруктур данных похожих на массив \n",
    "y = {'Khujand':735700, 'Dushanbe':735750, 'Kulob':735800}\n",
    "cities = pd.Series(y)\n",
    "cities\n",
    "\n",
    "cities**10\n",
    "\n",
    "cities['Kulob']\n",
    "\n",
    "\n",
    "cities[cities >= 735700] = 3\n",
    "cities\n",
    "\n",
    "cities[cities.notnull()]\n",
    "\n",
    "cities[cities.isnull()]\n",
    "\n",
    "cities.dtype"
   ]
  },
  {
   "cell_type": "code",
   "execution_count": null,
   "metadata": {},
   "outputs": [],
   "source": [
    "#Добавление нового столбца на основе другого столбца( имя столбца  == 'final_score')\n",
    "\n",
    "\n",
    "\n",
    "\n",
    "\n",
    "total_grade = [] # Создаём новый список \n",
    "for i in df['final_score']:\n",
    "    if i >= 80:\n",
    "        total_grade.append(5)\n",
    "    if (i < 80) and (i >=65):\n",
    "        total_grade.append(4)\n",
    "    if (i < 65) and (i >= 50):\n",
    "        total_grade.append(3)\n",
    "    if(i < 50) and (i >= 1):\n",
    "        total_grade.append(2)\n",
    "    \n",
    "df['total_grade'] = total_grade # Список превращяем в столбец датафрейма "
   ]
  },
  {
   "cell_type": "code",
   "execution_count": null,
   "metadata": {},
   "outputs": [],
   "source": [
    "#Уменьшение выбросов в дата фрейме\n",
    "\n",
    "\n",
    "def remove_outlier(df_in, col_name):\n",
    "    q1 = df_in[col_name].quantile(0.25)\n",
    "    q3 = df_in[col_name].quantile(0.75)\n",
    "    iqr = q3-q1 #Interquartile range\n",
    "    fence_low  = q1-1.5*iqr\n",
    "    fence_high = q3+1.5*iqr\n",
    "    df_out = df_in.loc[(df_in[col_name] > fence_low) & (df_in[col_name] < fence_high)]\n",
    "    return df_out\n",
    "\n",
    "\n",
    "train = remove_outlier(train, 'Age')"
   ]
  },
  {
   "cell_type": "code",
   "execution_count": null,
   "metadata": {},
   "outputs": [],
   "source": [
    "# Преобразовываем object в int\n",
    "\n",
    "\n",
    "from sklearn import preprocessing\n",
    "le = preprocessing.LabelEncoder()\n",
    "df['BsmtQual'] = le.fit_transform(df[['BsmtQual']])\n",
    "df['BsmtCond'] = le.fit_transform(df['BsmtCond'])\n",
    "df['BsmtExposure'] = le.fit_transform(df['BsmtExposure'])\n",
    "df['BsmtFinType1'] = le.fit_transform(df['BsmtFinType1'])\n",
    "df['BsmtFinType2'] = le.fit_transform(df['BsmtFinType2'])\n",
    "df['HeatingQC'] = le.fit_transform(df['HeatingQC'])\n",
    "df['CentralAir'] = le.fit_transform(df['CentralAir'])\n",
    "df['Electrical'] = le.fit_transform(df['Electrical'])\n",
    "df['KitchenQual'] = le.fit_transform(df['KitchenQual'])\n",
    "df['Functional'] = le.fit_transform(df['Functional'])\n",
    "df['FireplaceQu'] = le.fit_transform(df['FireplaceQu'])\n",
    "df['GarageType'] = le.fit_transform(df['GarageType'])\n",
    "df['GarageQual'] = le.fit_transform(df['GarageQual'])\n",
    "df['GarageCond'] = le.fit_transform(df['GarageCond'])\n",
    "df['PavedDrive'] = le.fit_transform(df['PavedDrive'])\n",
    "df['SaleType'] = le.fit_transform(df[['SaleType']])\n",
    "df['SaleCondition'] = le.fit_transform(df[['SaleCondition']])\n",
    "df['GarageFinish'] = le.fit_transform(df[['GarageFinish']])\n",
    "df['Heating'] = le.fit_transform(df[['Heating']])\n"
   ]
  },
  {
   "cell_type": "code",
   "execution_count": null,
   "metadata": {},
   "outputs": [],
   "source": [
    "#Zapolnenie\n",
    "data['storage'] = data['storage'].fillna(128)"
   ]
  },
  {
   "cell_type": "code",
   "execution_count": null,
   "metadata": {},
   "outputs": [],
   "source": []
  }
 ],
 "metadata": {
  "kernelspec": {
   "display_name": "Python 3",
   "language": "python",
   "name": "python3"
  },
  "language_info": {
   "codemirror_mode": {
    "name": "ipython",
    "version": 3
   },
   "file_extension": ".py",
   "mimetype": "text/x-python",
   "name": "python",
   "nbconvert_exporter": "python",
   "pygments_lexer": "ipython3",
   "version": "3.8.5"
  }
 },
 "nbformat": 4,
 "nbformat_minor": 4
}
