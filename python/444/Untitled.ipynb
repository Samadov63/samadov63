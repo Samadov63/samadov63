{
 "cells": [
  {
   "cell_type": "code",
   "execution_count": 2,
   "metadata": {},
   "outputs": [
    {
     "name": "stdout",
     "output_type": "stream",
     "text": [
      "        id ident           type                                name  \\\n",
      "0     6523   00A       heliport                   Total Rf Heliport   \n",
      "1   323361  00AA  small_airport                Aero B Ranch Airport   \n",
      "2     6524  00AK  small_airport                        Lowell Field   \n",
      "3     6525  00AL  small_airport                        Epps Airpark   \n",
      "4     6526  00AR         closed  Newport Hospital & Clinic Heliport   \n",
      "5   322127  00AS  small_airport                      Fulton Airport   \n",
      "6     6527  00AZ  small_airport                      Cordes Airport   \n",
      "7     6528  00CA  small_airport             Goldstone (GTS) Airport   \n",
      "8   324424  00CL  small_airport                 Williams Ag Airport   \n",
      "9   322658  00CN       heliport     Kitchen Creek Helibase Heliport   \n",
      "10    6529  00CO         closed                          Cass Field   \n",
      "11    6531  00FA  small_airport                 Grass Patch Airport   \n",
      "12    6532  00FD       heliport                  Ringhaver Heliport   \n",
      "13    6533  00FL  small_airport                   River Oak Airport   \n",
      "14    6534  00GA  small_airport                    Lt World Airport   \n",
      "\n",
      "    latitude_deg  longitude_deg  elevation_ft continent iso_country  \\\n",
      "0      40.070801     -74.933601          11.0       NaN          US   \n",
      "1      38.704022    -101.473911        3435.0       NaN          US   \n",
      "2      59.949200    -151.695999         450.0       NaN          US   \n",
      "3      34.864799     -86.770302         820.0       NaN          US   \n",
      "4      35.608700     -91.254898         237.0       NaN          US   \n",
      "5      34.942803     -97.818019        1100.0       NaN          US   \n",
      "6      34.305599    -112.165001        3810.0       NaN          US   \n",
      "7      35.354740    -116.885329        3038.0       NaN          US   \n",
      "8      39.427188    -121.763427          87.0       NaN          US   \n",
      "9      32.727374    -116.459742        3350.0       NaN          US   \n",
      "10     40.622202    -104.344002        4830.0       NaN          US   \n",
      "11     28.645500     -82.219002          53.0       NaN          US   \n",
      "12     28.846600     -82.345398          25.0       NaN          US   \n",
      "13     27.230900     -80.969200          35.0       NaN          US   \n",
      "14     33.767502     -84.068298         700.0       NaN          US   \n",
      "\n",
      "   iso_region  municipality scheduled_service gps_code iata_code local_code  \\\n",
      "0       US-PA      Bensalem                no      00A       NaN        00A   \n",
      "1       US-KS         Leoti                no     00AA       NaN       00AA   \n",
      "2       US-AK  Anchor Point                no     00AK       NaN       00AK   \n",
      "3       US-AL       Harvest                no     00AL       NaN       00AL   \n",
      "4       US-AR       Newport                no      NaN       NaN        NaN   \n",
      "5       US-OK          Alex                no     00AS       NaN       00AS   \n",
      "6       US-AZ        Cordes                no     00AZ       NaN       00AZ   \n",
      "7       US-CA       Barstow                no     00CA       NaN       00CA   \n",
      "8       US-CA         Biggs                no     00CL       NaN       00CL   \n",
      "9       US-CA   Pine Valley                no     00CN       NaN       00CN   \n",
      "10      US-CO    Briggsdale                no      NaN       NaN        NaN   \n",
      "11      US-FL      Bushnell                no     00FA       NaN       00FA   \n",
      "12      US-FL     Riverview                no     00FD       NaN       00FD   \n",
      "13      US-FL    Okeechobee                no     00FL       NaN       00FL   \n",
      "14      US-GA      Lithonia                no     00GA       NaN       00GA   \n",
      "\n",
      "   home_link wikipedia_link keywords  \n",
      "0        NaN            NaN      NaN  \n",
      "1        NaN            NaN      NaN  \n",
      "2        NaN            NaN      NaN  \n",
      "3        NaN            NaN      NaN  \n",
      "4        NaN            NaN     00AR  \n",
      "5        NaN            NaN      NaN  \n",
      "6        NaN            NaN      NaN  \n",
      "7        NaN            NaN      NaN  \n",
      "8        NaN            NaN      NaN  \n",
      "9        NaN            NaN      NaN  \n",
      "10       NaN            NaN     00CO  \n",
      "11       NaN            NaN      NaN  \n",
      "12       NaN            NaN      NaN  \n",
      "13       NaN            NaN      NaN  \n",
      "14       NaN            NaN      NaN  \n"
     ]
    }
   ],
   "source": [
    "import pandas as pd\n",
    "\n",
    "airports = pd.read_csv(r'C:\\Users\\HP\\Desktop\\444\\airports.csv')\n",
    "airports\n",
    "print(airports.head(15))\n",
    "#print(airports)\n",
    "\n",
    "#airports.info()\n",
    "#airports.describe(include = 'all')\n",
    "#print(airports.describe(include = 'all'))"
   ]
  },
  {
   "cell_type": "code",
   "execution_count": 2,
   "metadata": {},
   "outputs": [
    {
     "data": {
      "text/plain": [
       "0    12\n",
       "1    -4\n",
       "2     7\n",
       "3     9\n",
       "dtype: int64"
      ]
     },
     "execution_count": 2,
     "metadata": {},
     "output_type": "execute_result"
    }
   ],
   "source": [
    "import pandas as pd\n",
    "s = pd.Series([12,-4,7,9])\n",
    "s"
   ]
  },
  {
   "cell_type": "code",
   "execution_count": null,
   "metadata": {},
   "outputs": [],
   "source": []
  }
 ],
 "metadata": {
  "kernelspec": {
   "display_name": "Python 3",
   "language": "python",
   "name": "python3"
  },
  "language_info": {
   "codemirror_mode": {
    "name": "ipython",
    "version": 3
   },
   "file_extension": ".py",
   "mimetype": "text/x-python",
   "name": "python",
   "nbconvert_exporter": "python",
   "pygments_lexer": "ipython3",
   "version": "3.8.5"
  }
 },
 "nbformat": 4,
 "nbformat_minor": 4
}
