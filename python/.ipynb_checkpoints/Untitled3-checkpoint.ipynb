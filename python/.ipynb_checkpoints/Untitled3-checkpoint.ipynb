{
 "cells": [
  {
   "cell_type": "code",
   "execution_count": 11,
   "metadata": {},
   "outputs": [
    {
     "name": "stdout",
     "output_type": "stream",
     "text": [
      "Введите количество монет30\n",
      "2 0.020000\n",
      "4 0.040000\n",
      "8 0.080000\n",
      "16 0.160000\n",
      "32 0.320000\n",
      "64 0.640000\n",
      "128 1.280000\n",
      "256 2.560000\n",
      "512 5.120000\n",
      "1024 10.240000\n",
      "2048 20.480000\n",
      "4096 40.960000\n",
      "8192 81.920000\n",
      "16384 163.840000\n",
      "32768 327.680000\n",
      "65536 655.360000\n",
      "131072 1,310.720000\n",
      "262144 2,621.440000\n",
      "524288 5,242.880000\n",
      "1048576 10,485.760000\n",
      "2097152 20,971.520000\n",
      "4194304 41,943.040000\n",
      "8388608 83,886.080000\n",
      "16777216 167,772.160000\n",
      "33554432 335,544.320000\n",
      "67108864 671,088.640000\n",
      "134217728 1,342,177.280000\n",
      "268435456 2,684,354.560000\n",
      "536870912 5,368,709.120000\n",
      "1073741824 10,737,418.240000\n",
      "Зароботная плата за 30 дней =  10,737,418.240000\n"
     ]
    }
   ],
   "source": [
    "#sum = 0\n",
    "n = 1\n",
    "k = int(input('Введите количество монет'))\n",
    "for i in range(k):\n",
    "    n *= 2\n",
    "    print(n,'\\t', format(n/100, ',f'))\n",
    "print('Зароботная плата за 30 дней = ', format(n/100, ',f'))\n",
    "  "
   ]
  },
  {
   "cell_type": "code",
   "execution_count": 14,
   "metadata": {},
   "outputs": [
    {
     "name": "stdout",
     "output_type": "stream",
     "text": [
      "1073741824\n"
     ]
    }
   ],
   "source": [
    "x = 2 ** 30\n",
    "print(x)"
   ]
  },
  {
   "cell_type": "code",
   "execution_count": null,
   "metadata": {},
   "outputs": [],
   "source": []
  }
 ],
 "metadata": {
  "kernelspec": {
   "display_name": "Python 3",
   "language": "python",
   "name": "python3"
  },
  "language_info": {
   "codemirror_mode": {
    "name": "ipython",
    "version": 3
   },
   "file_extension": ".py",
   "mimetype": "text/x-python",
   "name": "python",
   "nbconvert_exporter": "python",
   "pygments_lexer": "ipython3",
   "version": "3.8.5"
  }
 },
 "nbformat": 4,
 "nbformat_minor": 4
}
