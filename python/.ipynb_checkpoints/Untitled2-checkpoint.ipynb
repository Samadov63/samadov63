{
 "cells": [
  {
   "cell_type": "code",
   "execution_count": 1,
   "metadata": {},
   "outputs": [],
   "source": [
    "import requests"
   ]
  },
  {
   "cell_type": "code",
   "execution_count": 3,
   "metadata": {},
   "outputs": [
    {
     "name": "stdout",
     "output_type": "stream",
     "text": [
      "<Response [200]>\n"
     ]
    }
   ],
   "source": [
    "r = requests.get('https://api.github.com/events')\n",
    "print(r)"
   ]
  },
  {
   "cell_type": "code",
   "execution_count": 4,
   "metadata": {},
   "outputs": [
    {
     "data": {
      "text/plain": [
       "<AxesSubplot:title={'center':'count of dogs'}, ylabel='id'>"
      ]
     },
     "execution_count": 4,
     "metadata": {},
     "output_type": "execute_result"
    },
    {
     "data": {
      "image/png": "[encoded data removed]",
      "text/plain": [
       "<Figure size 432x288 with 1 Axes>"
      ]
     },
     "metadata": {},
     "output_type": "display_data"
    }
   ],
   "source": [
    "response = requests.get(\"https://api.thedogapi.com/v1/breeds\").json()\n",
    "#response.text\n",
    "import pandas as pd\n",
    "dogs=pd.DataFrame(response)\n",
    "#dogs.columns\n",
    "res=dogs.groupby('country_code').sum()\n",
    "res['id'].plot(kind='pie', title='count of dogs')"
   ]
  },
  {
   "cell_type": "code",
   "execution_count": 30,
   "metadata": {},
   "outputs": [
    {
     "name": "stdout",
     "output_type": "stream",
     "text": [
      "°C\t°F\n",
      "==============\n",
      "0 \t 32.00\n",
      "1 \t 33.80\n",
      "2 \t 35.60\n",
      "3 \t 37.40\n",
      "4 \t 39.20\n",
      "5 \t 41.00\n",
      "6 \t 42.80\n",
      "7 \t 44.60\n",
      "8 \t 46.40\n",
      "9 \t 48.20\n",
      "10 \t 50.00\n",
      "11 \t 51.80\n",
      "12 \t 53.60\n",
      "13 \t 55.40\n",
      "14 \t 57.20\n",
      "15 \t 59.00\n",
      "16 \t 60.80\n",
      "17 \t 62.60\n",
      "18 \t 64.40\n",
      "19 \t 66.20\n",
      "20 \t 68.00\n"
     ]
    }
   ],
   "source": [
    "print('°C\\t°F')\n",
    "print('==============')\n",
    "\n",
    "for c in range(0,21):\n",
    "    f = (9/5)*c+32 \n",
    "    #print(f)\n",
    "    print(c,'\\t',format(f, '.2f'))\n"
   ]
  },
  {
   "cell_type": "code",
   "execution_count": null,
   "metadata": {},
   "outputs": [],
   "source": [
    "k = int(input('Введите количество монет'))\n",
    "for i in range(k):\n",
    "    k *= k\n",
    "    print(k)"
   ]
  },
  {
   "cell_type": "code",
   "execution_count": null,
   "metadata": {},
   "outputs": [],
   "source": []
  },
  {
   "cell_type": "code",
   "execution_count": null,
   "metadata": {},
   "outputs": [],
   "source": []
  }
 ],
 "metadata": {
  "kernelspec": {
   "display_name": "Python 3",
   "language": "python",
   "name": "python3"
  },
  "language_info": {
   "codemirror_mode": {
    "name": "ipython",
    "version": 3
   },
   "file_extension": ".py",
   "mimetype": "text/x-python",
   "name": "python",
   "nbconvert_exporter": "python",
   "pygments_lexer": "ipython3",
   "version": "3.8.5"
  }
 },
 "nbformat": 4,
 "nbformat_minor": 4
}
