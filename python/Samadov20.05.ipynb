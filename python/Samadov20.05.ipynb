{
 "cells": [
  {
   "cell_type": "code",
   "execution_count": 1,
   "metadata": {},
   "outputs": [],
   "source": [
    "import requests"
   ]
  },
  {
   "cell_type": "code",
   "execution_count": 2,
   "metadata": {},
   "outputs": [
    {
     "name": "stdout",
     "output_type": "stream",
     "text": [
      "<Response [200]>\n"
     ]
    }
   ],
   "source": [
    "r = requests.get('https://api.github.com/events')\n",
    "print(r)"
   ]
  },
  {
   "cell_type": "code",
   "execution_count": 3,
   "metadata": {},
   "outputs": [
    {
     "name": "stdout",
     "output_type": "stream",
     "text": [
      "200\n"
     ]
    }
   ],
   "source": [
    "response = requests.get(\"http://api.open-notify.org/astros.json\")\n",
    "print(response.status_code)\n"
   ]
  },
  {
   "cell_type": "code",
   "execution_count": 4,
   "metadata": {},
   "outputs": [
    {
     "name": "stdout",
     "output_type": "stream",
     "text": [
      "{'number': 7, 'message': 'success', 'people': [{'name': 'Mark Vande Hei', 'craft': 'ISS'}, {'name': 'Oleg Novitskiy', 'craft': 'ISS'}, {'name': 'Pyotr Dubrov', 'craft': 'ISS'}, {'name': 'Thomas Pesquet', 'craft': 'ISS'}, {'name': 'Megan McArthur', 'craft': 'ISS'}, {'name': 'Shane Kimbrough', 'craft': 'ISS'}, {'name': 'Akihiko Hoshide', 'craft': 'ISS'}]}\n",
      "Количество людей 7\n"
     ]
    }
   ],
   "source": [
    "print(response.json())\n",
    "a = response.json()\n",
    "print('Количество людей', a['number'])"
   ]
  },
  {
   "cell_type": "code",
   "execution_count": 5,
   "metadata": {},
   "outputs": [
    {
     "name": "stdout",
     "output_type": "stream",
     "text": [
      "{\n",
      "    \"message\": \"success\",\n",
      "    \"number\": 7,\n",
      "    \"people\": [\n",
      "        {\n",
      "            \"craft\": \"ISS\",\n",
      "            \"name\": \"Mark Vande Hei\"\n",
      "        },\n",
      "        {\n",
      "            \"craft\": \"ISS\",\n",
      "            \"name\": \"Oleg Novitskiy\"\n",
      "        },\n",
      "        {\n",
      "            \"craft\": \"ISS\",\n",
      "            \"name\": \"Pyotr Dubrov\"\n",
      "        },\n",
      "        {\n",
      "            \"craft\": \"ISS\",\n",
      "            \"name\": \"Thomas Pesquet\"\n",
      "        },\n",
      "        {\n",
      "            \"craft\": \"ISS\",\n",
      "            \"name\": \"Megan McArthur\"\n",
      "        },\n",
      "        {\n",
      "            \"craft\": \"ISS\",\n",
      "            \"name\": \"Shane Kimbrough\"\n",
      "        },\n",
      "        {\n",
      "            \"craft\": \"ISS\",\n",
      "            \"name\": \"Akihiko Hoshide\"\n",
      "        }\n",
      "    ]\n",
      "}\n"
     ]
    }
   ],
   "source": [
    "import json\n",
    "\n",
    "def jprint(obj):\n",
    "    text = json.dumps(obj, sort_keys = True, indent = 4)\n",
    "    print(text)\n",
    "    \n",
    "jprint(response.json())"
   ]
  },
  {
   "cell_type": "code",
   "execution_count": 6,
   "metadata": {},
   "outputs": [
    {
     "data": {
      "text/plain": [
       "'{\"results\":[{\"gender\":\"female\",\"name\":{\"title\":\"Ms\",\"first\":\"Aino\",\"last\":\"Pesola\"},\"location\":{\"street\":{\"number\":1284,\"name\":\"Verkatehtaankatu\"},\"city\":\"Pöytyä\",\"state\":\"Northern Ostrobothnia\",\"country\":\"Finland\",\"postcode\":16376,\"coordinates\":{\"latitude\":\"-11.8168\",\"longitude\":\"110.5310\"},\"timezone\":{\"offset\":\"-9:00\",\"description\":\"Alaska\"}},\"email\":\"aino.pesola@example.com\",\"login\":{\"uuid\":\"0bd12eb5-1c67-4d3e-ad23-0abb55392ac9\",\"username\":\"bluebear694\",\"password\":\"bimbo\",\"salt\":\"XzDZm3y1\",\"md5\":\"6923524c8dfaa227c76baa70cf406b01\",\"sha1\":\"1762023455cea5e9efc085b966d413eec90e8b63\",\"sha256\":\"f6bbae96c1380fdeee2a80f6fc6ac73772a35387515b4e4452b79710994d0c5a\"},\"dob\":{\"date\":\"1982-08-17T06:34:51.755Z\",\"age\":39},\"registered\":{\"date\":\"2014-12-19T04:03:24.116Z\",\"age\":7},\"phone\":\"04-251-675\",\"cell\":\"044-725-21-54\",\"id\":{\"name\":\"HETU\",\"value\":\"NaNNA692undefined\"},\"picture\":{\"large\":\"https://randomuser.me/api/portraits/women/34.jpg\",\"medium\":\"https://randomuser.me/api/portraits/med/women/34.jpg\",\"thumbnail\":\"https://randomuser.me/api/portraits/thumb/women/34.jpg\"},\"nat\":\"FI\"}],\"info\":{\"seed\":\"04ac46804d0aaaaf\",\"results\":1,\"page\":1,\"version\":\"1.3\"}}'"
      ]
     },
     "execution_count": 6,
     "metadata": {},
     "output_type": "execute_result"
    }
   ],
   "source": [
    "response = requests.get(\"https://randomuser.me/api/\")\n",
    "response.text"
   ]
  },
  {
   "cell_type": "code",
   "execution_count": 7,
   "metadata": {},
   "outputs": [
    {
     "data": {
      "text/plain": [
       "'{\"message\":\"The Dog API\"}'"
      ]
     },
     "execution_count": 7,
     "metadata": {},
     "output_type": "execute_result"
    }
   ],
   "source": [
    "response = requests.get(\"https://api.thedogapi.com/\")\n",
    "response.text"
   ]
  },
  {
   "cell_type": "code",
   "execution_count": 8,
   "metadata": {},
   "outputs": [
    {
     "data": {
      "text/plain": [
       "'[{\"weight\":{\"imperial\":\"6 - 13\",\"metric\":\"3 - 6\"},\"height\":{\"imperial\":\"9 - 11.5\",\"metric\":\"23 - 29\"},\"id\":1,\"name\":\"Affenpinscher\",\"bred_for\":\"Small rodent hunting, lapdog\",\"breed_group\":\"Toy\",\"life_span\":\"10 - 12 years\",\"temperament\":\"Stubborn, Curious, Playful, Adventurous, Active, Fun-loving\",\"origin\":\"Germany, France\",\"reference_image_id\":\"BJa4kxc4X\",\"image\":{\"id\":\"BJa4kxc4X\",\"width\":1600,\"height\":1199,\"url\":\"https://cdn2.thedogapi.com/images/BJa4kxc4X.jpg\"}},{\"weight\":{\"imperial\":\"50 - 60\",\"metric\":\"23 - 27\"},\"height\":{\"imperial\":\"25 - 27\",\"metric\":\"64 - 69\"},\"id\":2,\"name\":\"Afghan Hound\",\"country_code\":\"AG\",\"bred_for\":\"Coursing and hunting\",\"breed_group\":\"Hound\",\"life_span\":\"10 - 13 years\",\"temperament\":\"Aloof, Clownish, Dignified, Independent, Happy\",\"origin\":\"Afghanistan, Iran, Pakistan\",\"reference_image_id\":\"hMyT4CDXR\",\"image\":{\"id\":\"hMyT4CDXR\",\"width\":606,\"height\":380,\"url\":\"https://cdn2.thedogapi.com/images/hMyT4CDXR.jpg\"}},{\"weight\":{\"imperial\":\"44 - 66\",\"metric\":\"20 - 30\"},\"height\":{\"imperial\":\"30\",\"metric\":\"76\"},\"id\":3,\"name\":\"African Hunting Dog\",\"bred_for\":\"A wild pack animal\",\"life_span\":\"11 years\",\"temperament\":\"Wild, Hardworking, Dutiful\",\"origin\":\"\",\"reference_image_id\":\"rkiByec47\",\"image\":{\"id\":\"rkiByec47\",\"width\":500,\"height\":335,\"url\":\"https://cdn2.thedogapi.com/images/rkiByec47.jpg\"}},{\"weight\":{\"imperial\":\"40 - 65\",\"metric\":\"18 - 29\"},\"height\":{\"imperial\":\"21 - 23\",\"metric\":\"53 - 58\"},\"id\":4,\"name\":\"Airedale Terrier\",\"bred_for\":\"Badger, otter hunting\",\"breed_group\":\"Terrier\",\"life_span\":\"10 - 13 years\",\"temperament\":\"Outgoing, Friendly, Alert, Confident, Intelligent, Courageous\",\"origin\":\"United Kingdom, England\",\"reference_image_id\":\"1-7cgoZSh\",\"image\":{\"id\":\"1-7cgoZSh\",\"width\":645,\"height\":430,\"url\":\"https://cdn2.thedogapi.com/images/1-7cgoZSh.jpg\"}},{\"weight\":{\"imperial\":\"90 - 120\",\"metric\":\"41 - 54\"},\"height\":{\"imperial\":\"28 - 34\",\"metric\":\"71 - 86\"},\"id\":5,\"name\":\"Akbash Dog\",\"bred_for\":\"Sheep guarding\",\"breed_group\":\"Working\",\"life_span\":\"10 - 12 years\",\"temperament\":\"Loyal, Independent, Intelligent, Brave\",\"origin\":\"\",\"reference_image_id\":\"26pHT3Qk7\",\"image\":{\"id\":\"26pHT3Qk7\",\"width\":600,\"height\":471,\"url\":\"https://cdn2.thedogapi.com/images/26pHT3Qk7.jpg\"}},{\"weight\":{\"imperial\":\"65 - 115\",\"metric\":\"29 - 52\"},\"height\":{\"imperial\":\"24 - 28\",\"metric\":\"61 - 71\"},\"id\":6,\"name\":\"Akita\",\"bred_for\":\"Hunting bears\",\"breed_group\":\"Working\",\"life_span\":\"10 - 14 years\",\"temperament\":\"Docile, Alert, Responsive, Dignified, Composed, Friendly, Receptive, Faithful, Courageous\",\"reference_image_id\":\"BFRYBufpm\",\"image\":{\"id\":\"BFRYBufpm\",\"width\":1280,\"height\":853,\"url\":\"https://cdn2.thedogapi.com/images/BFRYBufpm.jpg\"}},{\"weight\":{\"imperial\":\"55 - 90\",\"metric\":\"25 - 41\"},\"height\":{\"imperial\":\"18 - 24\",\"metric\":\"46 - 61\"},\"id\":7,\"name\":\"Alapaha Blue Blood Bulldog\",\"description\":\"The Alapaha Blue Blood Bulldog is a well-developed, exaggerated bulldog with a broad head and natural drop ears. The prominent muzzle is covered by loose upper lips. The prominent eyes are set well apart. The Alapaha\\'s coat is relatively short and fairly stiff. Preferred colors are blue merle, brown merle, or red merle all trimmed in white or chocolate and white. Also preferred are the glass eyes (blue) or marble eyes (brown and blue mixed in a single eye). The ears and tail are never trimmed or docked. The body is sturdy and very muscular. The well-muscled hips are narrower than the chest. The straight back is as long as the dog is high at the shoulders. The dewclaws are never removed and the feet are cat-like.\",\"bred_for\":\"Guarding\",\"breed_group\":\"Mixed\",\"life_span\":\"12 - 13 years\",\"history\":\"\",\"temperament\":\"Loving, Protective, Trainable, Dutiful, Responsible\",\"reference_image_id\":\"33mJ-V3RX\",\"image\":{\"id\":\"33mJ-V3RX\",\"width\":1828,\"height\":2065,\"url\":\"https://cdn2.thedogapi.com/images/33mJ-V3RX.jpg\"}},{\"weight\":{\"imperial\":\"38 - 50\",\"metric\":\"17 - 23\"},\"height\":{\"imperial\":\"23 - 26\",\"metric\":\"58 - 66\"},\"id\":8,\"name\":\"Alaskan Husky\",\"bred_for\":\"Sled pulling\",\"breed_group\":\"Mixed\",\"life_span\":\"10 - 13 years\",\"temperament\":\"Friendly, Energetic, Loyal, Gentle, Confident\",\"reference_image_id\":\"-HgpNnGXl\",\"image\":{\"id\":\"-HgpNnGXl\",\"width\":500,\"height\":500,\"url\":\"https://cdn2.thedogapi.com/images/-HgpNnGXl.jpg\"}},{\"weight\":{\"imperial\":\"65 - 100\",\"metric\":\"29 - 45\"},\"height\":{\"imperial\":\"23 - 25\",\"metric\":\"58 - 64\"},\"id\":9,\"name\":\"Alaskan Malamute\",\"bred_for\":\"Hauling heavy freight, Sled pulling\",\"breed_group\":\"Working\",\"life_span\":\"12 - 15 years\",\"temperament\":\"Friendly, Affectionate, Devoted, Loyal, Dignified, Playful\",\"reference_image_id\":\"dW5UucTIW\",\"image\":{\"id\":\"dW5UucTIW\",\"width\":1023,\"height\":769,\"url\":\"https://cdn2.thedogapi.com/images/dW5UucTIW.jpg\"}},{\"weight\":{\"imperial\":\"60 - 120\",\"metric\":\"27 - 54\"},\"height\":{\"imperial\":\"22 - 27\",\"metric\":\"56 - 69\"},\"id\":10,\"name\":\"American Bulldog\",\"breed_group\":\"Working\",\"life_span\":\"10 - 12 years\",\"temperament\":\"Friendly, Assertive, Energetic, Loyal, Gentle, Confident, Dominant\",\"reference_image_id\":\"pk1AAdloG\",\"image\":{\"id\":\"pk1AAdloG\",\"width\":1669,\"height\":1377,\"url\":\"https://cdn2.thedogapi.com/images/pk1AAdloG.jpg\"}},{\"weight\":{\"imperial\":\"30 - 150\",\"metric\":\"14 - 68\"},\"height\":{\"imperial\":\"14 - 17\",\"metric\":\"36 - 43\"},\"id\":11,\"name\":\"American Bully\",\"country_code\":\"US\",\"bred_for\":\"Family companion dog\",\"breed_group\":\"\",\"life_span\":\"8 – 15 years\",\"temperament\":\"Strong Willed, Stubborn, Friendly, Clownish, Affectionate, Loyal, Obedient, Intelligent, Courageous\",\"reference_image_id\":\"sqQJDtbpY\",\"image\":{\"id\":\"sqQJDtbpY\",\"width\":1024,\"height\":683,\"url\":\"https://cdn2.thedogapi.com/images/sqQJDtbpY.jpg\"}},{\"weight\":{\"imperial\":\"20 - 40\",\"metric\":\"9 - 18\"},\"height\":{\"imperial\":\"15 - 19\",\"metric\":\"38 - 48\"},\"id\":12,\"name\":\"American Eskimo Dog\",\"country_code\":\"US\",\"bred_for\":\"Circus performer\",\"breed_group\":\"Non-Sporting\",\"life_span\":\"12 - 15 years\",\"temperament\":\"Friendly, Alert, Reserved, Intelligent, Protective\",\"reference_image_id\":\"Bymjyec4m\",\"image\":{\"id\":\"Bymjyec4m\",\"width\":1000,\"height\":802,\"url\":\"https://cdn2.thedogapi.com/images/Bymjyec4m.jpg\"}},{\"weight\":{\"imperial\":\"7 - 10\",\"metric\":\"3 - 5\"},\"height\":{\"imperial\":\"9 - 12\",\"metric\":\"23 - 30\"},\"id\":13,\"name\":\"American Eskimo Dog (Miniature)\",\"country_code\":\"US\",\"bred_for\":\"Companionship\",\"life_span\":\"13 – 15 years\",\"temperament\":\"Friendly, Alert, Reserved, Intelligent, Protective\",\"reference_image_id\":\"_gn8GLrE6\",\"image\":{\"id\":\"_gn8GLrE6\",\"width\":730,\"height\":487,\"url\":\"https://cdn2.thedogapi.com/images/_gn8GLrE6.jpg\"}},{\"weight\":{\"imperial\":\"65 - 75\",\"metric\":\"29 - 34\"},\"height\":{\"imperial\":\"21 - 28\",\"metric\":\"53 - 71\"},\"id\":14,\"name\":\"American Foxhound\",\"country_code\":\"US\",\"bred_for\":\"Fox hunting, scent hound\",\"breed_group\":\"Hound\",\"life_span\":\"8 - 15 years\",\"temperament\":\"Kind, Sweet-Tempered, Loyal, Independent, Intelligent, Loving\",\"reference_image_id\":\"S14n1x9NQ\",\"image\":{\"id\":\"S14n1x9NQ\",\"width\":3000,\"height\":2400,\"url\":\"https://cdn2.thedogapi.com/images/S14n1x9NQ.jpg\"}},{\"weight\":{\"imperial\":\"30 - 60\",\"metric\":\"14 - 27\"},\"height\":{\"imperial\":\"17 - 21\",\"metric\":\"43 - 53\"},\"id\":15,\"name\":\"American Pit Bull Terrier\",\"country_code\":\"US\",\"bred_for\":\"Fighting\",\"breed_group\":\"Terrier\",\"life_span\":\"10 - 15 years\",\"temperament\":\"Strong Willed, Stubborn, Friendly, Clownish, Affectionate, Loyal, Obedient, Intelligent, Courageous\",\"reference_image_id\":\"HkC31gcNm\",\"image\":{\"id\":\"HkC31gcNm\",\"width\":300,\"height\":244,\"url\":\"https://cdn2.thedogapi.com/images/HkC31gcNm.png\"}},{\"weight\":{\"imperial\":\"50 - 60\",\"metric\":\"23 - 27\"},\"height\":{\"imperial\":\"17 - 19\",\"metric\":\"43 - 48\"},\"id\":16,\"name\":\"American Staffordshire Terrier\",\"country_code\":\"US\",\"bred_for\":\"\",\"breed_group\":\"Terrier\",\"life_span\":\"12 - 15 years\",\"temperament\":\"Tenacious, Friendly, Devoted, Loyal, Attentive, Courageous\",\"reference_image_id\":\"rJIakgc4m\",\"image\":{\"id\":\"rJIakgc4m\",\"width\":357,\"height\":500,\"url\":\"https://cdn2.thedogapi.com/images/rJIakgc4m.jpg\"}},{\"weight\":{\"imperial\":\"25 - 45\",\"metric\":\"11 - 20\"},\"height\":{\"imperial\":\"15 - 18\",\"metric\":\"38 - 46\"},\"id\":17,\"name\":\"American Water Spaniel\",\"country_code\":\"US\",\"bred_for\":\"Bird flushing and retrieving\",\"breed_group\":\"Sporting\",\"life_span\":\"10 - 12 years\",\"temperament\":\"Friendly, Energetic, Obedient, Intelligent, Protective, Trainable\",\"reference_image_id\":\"SkmRJl9VQ\",\"image\":{\"id\":\"SkmRJl9VQ\",\"width\":1600,\"height\":1264,\"url\":\"https://cdn2.thedogapi.com/images/SkmRJl9VQ.jpg\"}},{\"weight\":{\"imperial\":\"80 - 150\",\"metric\":\"36 - 68\"},\"height\":{\"imperial\":\"27 - 29\",\"metric\":\"69 - 74\"},\"id\":18,\"name\":\"Anatolian Shepherd Dog\",\"bred_for\":\"Livestock herding\",\"breed_group\":\"Working\",\"life_span\":\"11 - 13 years\",\"temperament\":\"Steady, Bold, Independent, Confident, Intelligent, Proud\",\"reference_image_id\":\"BJT0Jx5Nm\",\"image\":{\"id\":\"BJT0Jx5Nm\",\"width\":1216,\"height\":1131,\"url\":\"https://cdn2.thedogapi.com/images/BJT0Jx5Nm.jpg\"}},{\"weight\":{\"imperial\":\"48 - 55\",\"metric\":\"22 - 25\"},\"height\":{\"imperial\":\"20 - 22\",\"metric\":\"51 - 56\"},\"id\":19,\"name\":\"Appenzeller Sennenhund\",\"bred_for\":\"Herding livestock, pulling carts, and guarding the farm\",\"life_span\":\"12 – 14 years\",\"temperament\":\"Reliable, Fearless, Energetic, Lively, Self-assured\",\"reference_image_id\":\"HkNkxlqEX\",\"image\":{\"id\":\"HkNkxlqEX\",\"width\":400,\"height\":600,\"url\":\"https://cdn2.thedogapi.com/images/HkNkxlqEX.jpg\"}},{\"weight\":{\"imperial\":\"44 - 62\",\"metric\":\"20 - 28\"},\"height\":{\"imperial\":\"17 - 20\",\"metric\":\"43 - 51\"},\"id\":21,\"name\":\"Australian Cattle Dog\",\"country_code\":\"AU\",\"bred_for\":\"Cattle herding, herding trials\",\"breed_group\":\"Herding\",\"life_span\":\"12 - 14 years\",\"temperament\":\"Cautious, Energetic, Loyal, Obedient, Protective, Brave\",\"reference_image_id\":\"IBkYVm4v1\",\"image\":{\"id\":\"IBkYVm4v1\",\"width\":736,\"height\":850,\"url\":\"https://cdn2.thedogapi.com/images/IBkYVm4v1.jpg\"}},{\"weight\":{\"imperial\":\"31 - 46\",\"metric\":\"14 - 21\"},\"height\":{\"imperial\":\"17 - 20\",\"metric\":\"43 - 51\"},\"id\":22,\"name\":\"Australian Kelpie\",\"country_code\":\"AU\",\"bred_for\":\"Farm dog, Cattle herding\",\"breed_group\":\"Herding\",\"life_span\":\"10 - 13 years\",\"temperament\":\"Friendly, Energetic, Alert, Loyal, Intelligent, Eager\",\"reference_image_id\":\"Hyq1ge9VQ\",\"image\":{\"id\":\"Hyq1ge9VQ\",\"width\":800,\"height\":533,\"url\":\"https://cdn2.thedogapi.com/images/Hyq1ge9VQ.jpg\"}},{\"weight\":{\"imperial\":\"35 - 65\",\"metric\":\"16 - 29\"},\"height\":{\"imperial\":\"18 - 23\",\"metric\":\"46 - 58\"},\"id\":23,\"name\":\"Australian Shepherd\",\"country_code\":\"AU\",\"bred_for\":\"Sheep herding\",\"breed_group\":\"Herding\",\"life_span\":\"12 - 16 years\",\"temperament\":\"Good-natured, Affectionate, Intelligent, Active, Protective\",\"reference_image_id\":\"B1-llgq4m\",\"image\":{\"id\":\"B1-llgq4m\",\"width\":1200,\"height\":733,\"url\":\"https://cdn2.thedogapi.com/images/B1-llgq4m.jpg\"}},{\"weight\":{\"imperial\":\"14 - 16\",\"metric\":\"6 - 7\"},\"height\":{\"imperial\":\"10 - 11\",\"metric\":\"25 - 28\"},\"id\":24,\"name\":\"Australian Terrier\",\"country_code\":\"AU\",\"bred_for\":\"Cattle herdering, hunting snakes and rodents\",\"breed_group\":\"Terrier\",\"life_span\":\"15 years\",\"temperament\":\"Spirited, Alert, Loyal, Companionable, Even Tempered, Courageous\",\"reference_image_id\":\"r1Ylge5Vm\",\"image\":{\"id\":\"r1Ylge5Vm\",\"width\":1081,\"height\":720,\"url\":\"https://cdn2.thedogapi.com/images/r1Ylge5Vm.jpg\"}},{\"weight\":{\"imperial\":\"33 - 55\",\"metric\":\"15 - 25\"},\"height\":{\"imperial\":\"23 - 29\",\"metric\":\"58 - 74\"},\"id\":25,\"name\":\"Azawakh\",\"bred_for\":\"Livestock guardian, hunting\",\"breed_group\":\"Hound\",\"life_span\":\"10 - 13 years\",\"temperament\":\"Aloof, Affectionate, Attentive, Rugged, Fierce, Refined\",\"reference_image_id\":\"SkvZgx94m\",\"image\":{\"id\":\"SkvZgx94m\",\"width\":1024,\"height\":768,\"url\":\"https://cdn2.thedogapi.com/images/SkvZgx94m.jpg\"}},{\"weight\":{\"imperial\":\"40 - 65\",\"metric\":\"18 - 29\"},\"height\":{\"imperial\":\"20 - 26\",\"metric\":\"51 - 66\"},\"id\":26,\"name\":\"Barbet\",\"bred_for\":\"Hunting water game\",\"life_span\":\"13 – 15 years\",\"temperament\":\"Obedient, Companionable, Intelligent, Joyful\",\"reference_image_id\":\"HyWGexcVQ\",\"image\":{\"id\":\"HyWGexcVQ\",\"width\":853,\"height\":1280,\"url\":\"https://cdn2.thedogapi.com/images/HyWGexcVQ.jpg\"}},{\"weight\":{\"imperial\":\"22 - 24\",\"metric\":\"10 - 11\"},\"height\":{\"imperial\":\"16 - 17\",\"metric\":\"41 - 43\"},\"id\":28,\"name\":\"Basenji\",\"bred_for\":\"Hunting\",\"breed_group\":\"Hound\",\"life_span\":\"10 - 12 years\",\"temperament\":\"Affectionate, Energetic, Alert, Curious, Playful, Intelligent\",\"reference_image_id\":\"H1dGlxqNQ\",\"image\":{\"id\":\"H1dGlxqNQ\",\"width\":740,\"height\":493,\"url\":\"https://cdn2.thedogapi.com/images/H1dGlxqNQ.jpg\"}},{\"weight\":{\"imperial\":\"35 - 40\",\"metric\":\"16 - 18\"},\"height\":{\"imperial\":\"13 - 15\",\"metric\":\"33 - 38\"},\"id\":29,\"name\":\"Basset Bleu de Gascogne\",\"bred_for\":\"Hunting on foot.\",\"breed_group\":\"Hound\",\"life_span\":\"10 - 14 years\",\"temperament\":\"Affectionate, Lively, Agile, Curious, Happy, Active\",\"reference_image_id\":\"BkMQll94X\",\"image\":{\"id\":\"BkMQll94X\",\"width\":1280,\"height\":853,\"url\":\"https://cdn2.thedogapi.com/images/BkMQll94X.jpg\"}},{\"weight\":{\"imperial\":\"50 - 65\",\"metric\":\"23 - 29\"},\"height\":{\"imperial\":\"14\",\"metric\":\"36\"},\"id\":30,\"name\":\"Basset Hound\",\"bred_for\":\"Hunting by scent\",\"breed_group\":\"Hound\",\"life_span\":\"12 - 15 years\",\"temperament\":\"Tenacious, Friendly, Affectionate, Devoted, Sweet-Tempered, Gentle\",\"reference_image_id\":\"Sy57xx9EX\",\"image\":{\"id\":\"Sy57xx9EX\",\"width\":1024,\"height\":640,\"url\":\"https://cdn2.thedogapi.com/images/Sy57xx9EX.jpg\"}},{\"weight\":{\"imperial\":\"20 - 35\",\"metric\":\"9 - 16\"},\"height\":{\"imperial\":\"13 - 15\",\"metric\":\"33 - 38\"},\"id\":31,\"name\":\"Beagle\",\"bred_for\":\"Rabbit, hare hunting\",\"breed_group\":\"Hound\",\"life_span\":\"13 - 16 years\",\"temperament\":\"Amiable, Even Tempered, Excitable, Determined, Gentle, Intelligent\",\"reference_image_id\":\"Syd4xxqEm\",\"image\":{\"id\":\"Syd4xxqEm\",\"width\":1000,\"height\":667,\"url\":\"https://cdn2.thedogapi.com/images/Syd4xxqEm.jpg\"}},{\"weight\":{\"imperial\":\"45 - 55\",\"metric\":\"20 - 25\"},\"height\":{\"imperial\":\"20 - 22\",\"metric\":\"51 - 56\"},\"id\":32,\"name\":\"Bearded Collie\",\"bred_for\":\"Sheep herding\",\"breed_group\":\"Herding\",\"life_span\":\"12 - 14 years\",\"temperament\":\"Self-confidence, Hardy, Lively, Alert, Intelligent, Active\",\"reference_image_id\":\"A09F4c1qP\",\"image\":{\"id\":\"A09F4c1qP\",\"width\":733,\"height\":733,\"url\":\"https://cdn2.thedogapi.com/images/A09F4c1qP.jpg\"}},{\"weight\":{\"imperial\":\"80 - 110\",\"metric\":\"36 - 50\"},\"height\":{\"imperial\":\"24 - 27.5\",\"metric\":\"61 - 70\"},\"id\":33,\"name\":\"Beauceron\",\"bred_for\":\"Boar herding, hunting, guarding\",\"breed_group\":\"Herding\",\"life_span\":\"10 - 12 years\",\"temperament\":\"Fearless, Friendly, Intelligent, Protective, Calm\",\"reference_image_id\":\"HJQ8ge5V7\",\"image\":{\"id\":\"HJQ8ge5V7\",\"width\":720,\"height\":563,\"url\":\"https://cdn2.thedogapi.com/images/HJQ8ge5V7.jpg\"}},{\"weight\":{\"imperial\":\"17 - 23\",\"metric\":\"8 - 10\"},\"height\":{\"imperial\":\"15 - 16\",\"metric\":\"38 - 41\"},\"id\":34,\"name\":\"Bedlington Terrier\",\"bred_for\":\"Killing rat, badger, other vermin\",\"breed_group\":\"Terrier\",\"life_span\":\"14 - 16 years\",\"temperament\":\"Affectionate, Spirited, Intelligent, Good-tempered\",\"reference_image_id\":\"ByK8gx947\",\"image\":{\"id\":\"ByK8gx947\",\"width\":804,\"height\":531,\"url\":\"https://cdn2.thedogapi.com/images/ByK8gx947.jpg\"}},{\"weight\":{\"imperial\":\"40 - 80\",\"metric\":\"18 - 36\"},\"height\":{\"imperial\":\"22 - 26\",\"metric\":\"56 - 66\"},\"id\":36,\"name\":\"Belgian Malinois\",\"bred_for\":\"Stock herding\",\"breed_group\":\"Herding\",\"life_span\":\"12 - 14 years\",\"temperament\":\"Watchful, Alert, Stubborn, Friendly, Confident, Hard-working, Active, Protective\",\"reference_image_id\":\"r1f_ll5VX\",\"image\":{\"id\":\"r1f_ll5VX\",\"width\":604,\"height\":453,\"url\":\"https://cdn2.thedogapi.com/images/r1f_ll5VX.jpg\"}},{\"weight\":{\"imperial\":\"40 - 65\",\"metric\":\"18 - 29\"},\"height\":{\"imperial\":\"22 - 26\",\"metric\":\"56 - 66\"},\"id\":38,\"name\":\"Belgian Tervuren\",\"bred_for\":\"Guarding, Drafting, Police work.\",\"breed_group\":\"Herding\",\"life_span\":\"10 - 12 years\",\"temperament\":\"Energetic, Alert, Loyal, Intelligent, Attentive, Protective\",\"reference_image_id\":\"B1KdxlcNX\",\"image\":{\"id\":\"B1KdxlcNX\",\"width\":645,\"height\":380,\"url\":\"https://cdn2.thedogapi.com/images/B1KdxlcNX.jpg\"}},{\"weight\":{\"imperial\":\"65 - 120\",\"metric\":\"29 - 54\"},\"height\":{\"imperial\":\"23 - 27.5\",\"metric\":\"58 - 70\"},\"id\":41,\"name\":\"Bernese Mountain Dog\",\"bred_for\":\"Draft work\",\"breed_group\":\"Working\",\"life_span\":\"7 - 10 years\",\"temperament\":\"Affectionate, Loyal, Intelligent, Faithful\",\"reference_image_id\":\"S1fFlx5Em\",\"image\":{\"id\":\"S1fFlx5Em\",\"width\":640,\"height\":427,\"url\":\"https://cdn2.thedogapi.com/images/S1fFlx5Em.jpg\"}},{\"weight\":{\"imperial\":\"10 - 18\",\"metric\":\"5 - 8\"},\"height\":{\"imperial\":\"9.5 - 11.5\",\"metric\":\"24 - 29\"},\"id\":42,\"name\":\"Bichon Frise\",\"bred_for\":\"Companion\",\"breed_group\":\"Non-Sporting\",\"life_span\":\"15 years\",\"temperament\":\"Feisty, Affectionate, Cheerful, Playful, Gentle, Sensitive\",\"reference_image_id\":\"HkuYlxqEQ\",\"image\":{\"id\":\"HkuYlxqEQ\",\"width\":480,\"height\":360,\"url\":\"https://cdn2.thedogapi.com/images/HkuYlxqEQ.jpg\"}},{\"weight\":{\"imperial\":\"65 - 100\",\"metric\":\"29 - 45\"},\"height\":{\"imperial\":\"23 - 27\",\"metric\":\"58 - 69\"},\"id\":43,\"name\":\"Black and Tan Coonhound\",\"bred_for\":\"Hunting raccoons, night hunting\",\"breed_group\":\"Hound\",\"life_span\":\"10 - 12 years\",\"temperament\":\"Easygoing, Gentle, Adaptable, Trusting, Even Tempered, Lovable\",\"reference_image_id\":\"HJAFgxcNQ\",\"image\":{\"id\":\"HJAFgxcNQ\",\"width\":556,\"height\":380,\"url\":\"https://cdn2.thedogapi.com/images/HJAFgxcNQ.jpg\"}},{\"weight\":{\"imperial\":\"80 - 110\",\"metric\":\"36 - 50\"},\"height\":{\"imperial\":\"23 - 27\",\"metric\":\"58 - 69\"},\"id\":45,\"name\":\"Bloodhound\",\"bred_for\":\"Trailing\",\"breed_group\":\"Hound\",\"life_span\":\"8 - 10 years\",\"temperament\":\"Stubborn, Affectionate, Gentle, Even Tempered\",\"reference_image_id\":\"Skdcgx9VX\",\"image\":{\"id\":\"Skdcgx9VX\",\"width\":586,\"height\":600,\"url\":\"https://cdn2.thedogapi.com/images/Skdcgx9VX.jpg\"}},{\"weight\":{\"imperial\":\"45 - 80\",\"metric\":\"20 - 36\"},\"height\":{\"imperial\":\"21 - 27\",\"metric\":\"53 - 69\"},\"id\":47,\"name\":\"Bluetick Coonhound\",\"bred_for\":\"Hunting with a superior sense of smell.\",\"breed_group\":\"Hound\",\"life_span\":\"12 - 14 years\",\"temperament\":\"Friendly, Intelligent, Active\",\"reference_image_id\":\"rJxieg9VQ\",\"image\":{\"id\":\"rJxieg9VQ\",\"width\":731,\"height\":599,\"url\":\"https://cdn2.thedogapi.com/images/rJxieg9VQ.jpg\"}},{\"weight\":{\"imperial\":\"110 - 200\",\"metric\":\"50 - 91\"},\"height\":{\"imperial\":\"22 - 27\",\"metric\":\"56 - 69\"},\"id\":48,\"name\":\"Boerboel\",\"bred_for\":\"Guarding the homestead, farm work.\",\"breed_group\":\"Working\",\"life_span\":\"10 - 12 years\",\"temperament\":\"Obedient, Confident, Intelligent, Dominant, Territorial\",\"reference_image_id\":\"HyOjge5Vm\",\"image\":{\"id\":\"HyOjge5Vm\",\"width\":1200,\"height\":669,\"url\":\"https://cdn2.thedogapi.com/images/HyOjge5Vm.jpg\"}},{\"weight\":{\"imperial\":\"30 - 45\",\"metric\":\"14 - 20\"},\"height\":{\"imperial\":\"18 - 22\",\"metric\":\"46 - 56\"},\"id\":50,\"name\":\"Border Collie\",\"bred_for\":\"Sheep herder\",\"breed_group\":\"Herding\",\"life_span\":\"12 - 16 years\",\"temperament\":\"Tenacious, Keen, Energetic, Responsive, Alert, Intelligent\",\"reference_image_id\":\"sGQvQUpsp\",\"image\":{\"id\":\"sGQvQUpsp\",\"width\":1080,\"height\":1080,\"url\":\"https://cdn2.thedogapi.com/images/sGQvQUpsp.jpg\"}},{\"weight\":{\"imperial\":\"11.5 - 15.5\",\"metric\":\"5 - 7\"},\"height\":{\"imperial\":\"11 - 16\",\"metric\":\"28 - 41\"},\"id\":51,\"name\":\"Border Terrier\",\"bred_for\":\"Fox bolting, ratting\",\"breed_group\":\"Terrier\",\"life_span\":\"12 - 14 years\",\"temperament\":\"Fearless, Affectionate, Alert, Obedient, Intelligent, Even Tempered\",\"reference_image_id\":\"HJOpge9Em\",\"image\":{\"id\":\"HJOpge9Em\",\"width\":674,\"height\":450,\"url\":\"https://cdn2.thedogapi.com/images/HJOpge9Em.jpg\"}},{\"weight\":{\"imperial\":\"10 - 25\",\"metric\":\"5 - 11\"},\"height\":{\"imperial\":\"16 - 17\",\"metric\":\"41 - 43\"},\"id\":53,\"name\":\"Boston Terrier\",\"bred_for\":\"Ratting, Companionship\",\"breed_group\":\"Non-Sporting\",\"life_span\":\"11 - 13 years\",\"temperament\":\"Friendly, Lively, Intelligent\",\"reference_image_id\":\"rkZRggqVX\",\"image\":{\"id\":\"rkZRggqVX\",\"width\":1010,\"height\":673,\"url\":\"https://cdn2.thedogapi.com/images/rkZRggqVX.jpg\"}},{\"weight\":{\"imperial\":\"70 - 110\",\"metric\":\"32 - 50\"},\"height\":{\"imperial\":\"23.5 - 27.5\",\"metric\":\"60 - 70\"},\"id\":54,\"name\":\"Bouvier des Flandres\",\"bred_for\":\"Cattle herding\",\"breed_group\":\"Herding\",\"life_span\":\"10 - 15 years\",\"temperament\":\"Protective, Loyal, Gentle, Intelligent, Familial, Rational\",\"reference_image_id\":\"Byd0xl5VX\",\"image\":{\"id\":\"Byd0xl5VX\",\"width\":680,\"height\":454,\"url\":\"https://cdn2.thedogapi.com/images/Byd0xl5VX.jpg\"}},{\"weight\":{\"imperial\":\"50 - 70\",\"metric\":\"23 - 32\"},\"height\":{\"imperial\":\"21.5 - 25\",\"metric\":\"55 - 64\"},\"id\":55,\"name\":\"Boxer\",\"bred_for\":\"Bull-baiting, guardian\",\"breed_group\":\"Working\",\"life_span\":\"8 - 10 years\",\"temperament\":\"Devoted, Fearless, Friendly, Cheerful, Energetic, Loyal, Playful, Confident, Intelligent, Bright, Brave, Calm\",\"reference_image_id\":\"ry1kWe5VQ\",\"image\":{\"id\":\"ry1kWe5VQ\",\"width\":645,\"height\":430,\"url\":\"https://cdn2.thedogapi.com/images/ry1kWe5VQ.jpg\"}},{\"weight\":{\"imperial\":\"25 - 40\",\"metric\":\"11 - 18\"},\"height\":{\"imperial\":\"14 - 18\",\"metric\":\"36 - 46\"},\"id\":56,\"name\":\"Boykin Spaniel\",\"bred_for\":\"Turkey retrieving\",\"breed_group\":\"Sporting\",\"life_span\":\"10 - 14 years\",\"temperament\":\"Friendly, Energetic, Companionable, Intelligent, Eager, Trainable\",\"reference_image_id\":\"ryHJZlcNX\",\"image\":{\"id\":\"ryHJZlcNX\",\"width\":577,\"height\":634,\"url\":\"https://cdn2.thedogapi.com/images/ryHJZlcNX.jpg\"}},{\"weight\":{\"imperial\":\"55 - 88\",\"metric\":\"25 - 40\"},\"height\":{\"imperial\":\"21.5 - 26.5\",\"metric\":\"55 - 67\"},\"id\":57,\"name\":\"Bracco Italiano\",\"bred_for\":\"Versatile gun dog\",\"breed_group\":\"Sporting\",\"life_span\":\"10 - 12 years\",\"temperament\":\"Stubborn, Affectionate, Loyal, Playful, Companionable, Trainable\",\"reference_image_id\":\"S13yZg5VQ\",\"image\":{\"id\":\"S13yZg5VQ\",\"width\":750,\"height\":505,\"url\":\"https://cdn2.thedogapi.com/images/S13yZg5VQ.jpg\"}},{\"weight\":{\"imperial\":\"70 - 90\",\"metric\":\"32 - 41\"},\"height\":{\"imperial\":\"22 - 27\",\"metric\":\"56 - 69\"},\"id\":58,\"name\":\"Briard\",\"bred_for\":\"Herding, guarding sheep\",\"breed_group\":\"Herding\",\"life_span\":\"10 - 12 years\",\"temperament\":\"Fearless, Loyal, Obedient, Intelligent, Faithful, Protective\",\"reference_image_id\":\"rkVlblcEQ\",\"image\":{\"id\":\"rkVlblcEQ\",\"width\":768,\"height\":576,\"url\":\"https://cdn2.thedogapi.com/images/rkVlblcEQ.jpg\"}},{\"weight\":{\"imperial\":\"30 - 45\",\"metric\":\"14 - 20\"},\"height\":{\"imperial\":\"17.5 - 20.5\",\"metric\":\"44 - 52\"},\"id\":59,\"name\":\"Brittany\",\"bred_for\":\"Pointing, retrieving\",\"breed_group\":\"Sporting\",\"life_span\":\"12 - 14 years\",\"temperament\":\"Agile, Adaptable, Quick, Intelligent, Attentive, Happy\",\"reference_image_id\":\"HJWZZxc4X\",\"image\":{\"id\":\"HJWZZxc4X\",\"width\":900,\"height\":600,\"url\":\"https://cdn2.thedogapi.com/images/HJWZZxc4X.jpg\"}},{\"weight\":{\"imperial\":\"50 - 70\",\"metric\":\"23 - 32\"},\"height\":{\"imperial\":\"21 - 22\",\"metric\":\"53 - 56\"},\"id\":61,\"name\":\"Bull Terrier\",\"bred_for\":\"Bull baiting, Fighting\",\"breed_group\":\"Terrier\",\"life_span\":\"10 - 12 years\",\"temperament\":\"Trainable, Protective, Sweet-Tempered, Keen, Active\",\"reference_image_id\":\"VSraIEQGd\",\"image\":{\"id\":\"VSraIEQGd\",\"width\":1080,\"height\":1080,\"url\":\"https://cdn2.thedogapi.com/images/VSraIEQGd.jpg\"}},{\"weight\":{\"imperial\":\"25 - 33\",\"metric\":\"11 - 15\"},\"height\":{\"imperial\":\"10 - 14\",\"metric\":\"25 - 36\"},\"id\":62,\"name\":\"Bull Terrier (Miniature)\",\"bred_for\":\"An elegant man\\'s fashion statement\",\"life_span\":\"11 – 14 years\",\"temperament\":\"Trainable, Protective, Sweet-Tempered, Keen, Active, Territorial\",\"reference_image_id\":\"BkKZWlcVX\",\"image\":{\"id\":\"BkKZWlcVX\",\"width\":674,\"height\":450,\"url\":\"https://cdn2.thedogapi.com/images/BkKZWlcVX.jpg\"}},{\"weight\":{\"imperial\":\"100 - 130\",\"metric\":\"45 - 59\"},\"height\":{\"imperial\":\"24 - 27\",\"metric\":\"61 - 69\"},\"id\":64,\"name\":\"Bullmastiff\",\"bred_for\":\"Estate guardian\",\"breed_group\":\"Working\",\"life_span\":\"8 - 12 years\",\"temperament\":\"Docile, Reliable, Devoted, Alert, Loyal, Reserved, Loving, Protective, Powerful, Calm, Courageous\",\"reference_image_id\":\"r1ifZl5E7\",\"image\":{\"id\":\"r1ifZl5E7\",\"width\":850,\"height\":638,\"url\":\"https://cdn2.thedogapi.com/images/r1ifZl5E7.jpg\"}},{\"weight\":{\"imperial\":\"13 - 14\",\"metric\":\"6 - 6\"},\"height\":{\"imperial\":\"9 - 10\",\"metric\":\"23 - 25\"},\"id\":65,\"name\":\"Cairn Terrier\",\"bred_for\":\"Bolting of otter, foxes, other vermin\",\"breed_group\":\"Terrier\",\"life_span\":\"14 - 15 years\",\"temperament\":\"Hardy, Fearless, Assertive, Gay, Intelligent, Active\",\"reference_image_id\":\"Sk7Qbg9E7\",\"image\":{\"id\":\"Sk7Qbg9E7\",\"width\":1254,\"height\":836,\"url\":\"https://cdn2.thedogapi.com/images/Sk7Qbg9E7.jpg\"}},{\"weight\":{\"imperial\":\"88 - 120\",\"metric\":\"40 - 54\"},\"height\":{\"imperial\":\"23.5 - 27.5\",\"metric\":\"60 - 70\"},\"id\":67,\"name\":\"Cane Corso\",\"bred_for\":\"Companion, guard dog, and hunter\",\"breed_group\":\"Working\",\"life_span\":\"10 - 11 years\",\"temperament\":\"Trainable, Reserved, Stable, Quiet, Even Tempered, Calm\",\"reference_image_id\":\"r15m-lc4m\",\"image\":{\"id\":\"r15m-lc4m\",\"width\":645,\"height\":380,\"url\":\"https://cdn2.thedogapi.com/images/r15m-lc4m.jpg\"}},{\"weight\":{\"imperial\":\"25 - 38\",\"metric\":\"11 - 17\"},\"height\":{\"imperial\":\"10.5 - 12.5\",\"metric\":\"27 - 32\"},\"id\":68,\"name\":\"Cardigan Welsh Corgi\",\"bred_for\":\"Cattle droving\",\"breed_group\":\"Herding\",\"life_span\":\"12 - 14 years\",\"temperament\":\"Affectionate, Devoted, Alert, Companionable, Intelligent, Active\",\"reference_image_id\":\"SyXN-e9NX\",\"image\":{\"id\":\"SyXN-e9NX\",\"width\":800,\"height\":600,\"url\":\"https://cdn2.thedogapi.com/images/SyXN-e9NX.jpg\"}},{\"weight\":{\"imperial\":\"50 - 95\",\"metric\":\"23 - 43\"},\"height\":{\"imperial\":\"20 - 26\",\"metric\":\"51 - 66\"},\"id\":69,\"name\":\"Catahoula Leopard Dog\",\"bred_for\":\"Driving livestock\",\"breed_group\":\"Herding\",\"life_span\":\"10 - 12 years\",\"temperament\":\"Energetic, Inquisitive, Independent, Gentle, Intelligent, Loving\",\"reference_image_id\":\"BJcNbec4X\",\"image\":{\"id\":\"BJcNbec4X\",\"width\":650,\"height\":650,\"url\":\"https://cdn2.thedogapi.com/images/BJcNbec4X.jpg\"}},{\"weight\":{\"imperial\":\"80 - 100\",\"metric\":\"36 - 45\"},\"height\":{\"imperial\":\"24 - 33.5\",\"metric\":\"61 - 85\"},\"id\":70,\"name\":\"Caucasian Shepherd (Ovcharka)\",\"bred_for\":\"Guard dogs, defending sheep from predators, mainly wolves, jackals and bears\",\"breed_group\":\"Working\",\"life_span\":\"10 - 12 years\",\"temperament\":\"Alert, Quick, Dominant, Powerful, Calm, Strong\",\"reference_image_id\":\"r1rrWe5Em\",\"image\":{\"id\":\"r1rrWe5Em\",\"width\":1024,\"height\":682,\"url\":\"https://cdn2.thedogapi.com/images/r1rrWe5Em.jpg\"}},{\"weight\":{\"imperial\":\"13 - 18\",\"metric\":\"6 - 8\"},\"height\":{\"imperial\":\"12 - 13\",\"metric\":\"30 - 33\"},\"id\":71,\"name\":\"Cavalier King Charles Spaniel\",\"bred_for\":\"Flushing small birds, companion\",\"breed_group\":\"Toy\",\"life_span\":\"10 - 14 years\",\"temperament\":\"Fearless, Affectionate, Sociable, Patient, Playful, Adaptable\",\"reference_image_id\":\"HJRBbe94Q\",\"image\":{\"id\":\"HJRBbe94Q\",\"width\":961,\"height\":558,\"url\":\"https://cdn2.thedogapi.com/images/HJRBbe94Q.jpg\"}},{\"weight\":{\"imperial\":\"55 - 80\",\"metric\":\"25 - 36\"},\"height\":{\"imperial\":\"21 - 26\",\"metric\":\"53 - 66\"},\"id\":76,\"name\":\"Chesapeake Bay Retriever\",\"bred_for\":\"Water Retriever\",\"breed_group\":\"Sporting\",\"life_span\":\"10 - 13 years\",\"temperament\":\"Affectionate, Intelligent, Quiet, Dominant, Happy, Protective\",\"reference_image_id\":\"9BXwUeCc2\",\"image\":{\"id\":\"9BXwUeCc2\",\"width\":600,\"height\":600,\"url\":\"https://cdn2.thedogapi.com/images/9BXwUeCc2.jpg\"}},{\"weight\":{\"imperial\":\"10 - 13\",\"metric\":\"5 - 6\"},\"height\":{\"imperial\":\"11 - 13\",\"metric\":\"28 - 33\"},\"id\":78,\"name\":\"Chinese Crested\",\"bred_for\":\"Ratting, lapdog, curio\",\"breed_group\":\"Toy\",\"life_span\":\"10 - 14 years\",\"temperament\":\"Affectionate, Sweet-Tempered, Lively, Alert, Playful, Happy\",\"reference_image_id\":\"B1pDZx9Nm\",\"image\":{\"id\":\"B1pDZx9Nm\",\"width\":1200,\"height\":798,\"url\":\"https://cdn2.thedogapi.com/images/B1pDZx9Nm.jpg\"}},{\"weight\":{\"imperial\":\"45 - 60\",\"metric\":\"20 - 27\"},\"height\":{\"imperial\":\"18 - 20\",\"metric\":\"46 - 51\"},\"id\":79,\"name\":\"Chinese Shar-Pei\",\"bred_for\":\"Fighting\",\"breed_group\":\"Non-Sporting\",\"life_span\":\"10 years\",\"temperament\":\"Suspicious, Affectionate, Devoted, Reserved, Independent, Loving\",\"reference_image_id\":\"B1ruWl94Q\",\"image\":{\"id\":\"B1ruWl94Q\",\"width\":1049,\"height\":761,\"url\":\"https://cdn2.thedogapi.com/images/B1ruWl94Q.jpg\"}},{\"weight\":{\"imperial\":\"50 - 90\",\"metric\":\"23 - 41\"},\"height\":{\"imperial\":\"22 - 26\",\"metric\":\"56 - 66\"},\"id\":80,\"name\":\"Chinook\",\"bred_for\":\"Sled pulling\",\"breed_group\":\"Working\",\"life_span\":\"12 - 15 years\",\"temperament\":\"Friendly, Alert, Dignified, Intelligent, Calm\",\"reference_image_id\":\"Sypubg54Q\",\"image\":{\"id\":\"Sypubg54Q\",\"width\":600,\"height\":478,\"url\":\"https://cdn2.thedogapi.com/images/Sypubg54Q.jpg\"}},{\"weight\":{\"imperial\":\"40 - 70\",\"metric\":\"18 - 32\"},\"height\":{\"imperial\":\"17 - 20\",\"metric\":\"43 - 51\"},\"id\":81,\"name\":\"Chow Chow\",\"bred_for\":\"Guardian, cart pulling, hunting\",\"breed_group\":\"Non-Sporting\",\"life_span\":\"12 - 15 years\",\"temperament\":\"Aloof, Loyal, Independent, Quiet\",\"reference_image_id\":\"ry8KWgqEQ\",\"image\":{\"id\":\"ry8KWgqEQ\",\"width\":1010,\"height\":673,\"url\":\"https://cdn2.thedogapi.com/images/ry8KWgqEQ.jpg\"}},{\"weight\":{\"imperial\":\"55 - 85\",\"metric\":\"25 - 39\"},\"height\":{\"imperial\":\"17 - 20\",\"metric\":\"43 - 51\"},\"id\":84,\"name\":\"Clumber Spaniel\",\"bred_for\":\"Bird flushing, retrieving\",\"breed_group\":\"Sporting\",\"life_span\":\"10 - 12 years\",\"temperament\":\"Affectionate, Loyal, Dignified, Gentle, Calm, Great-hearted\",\"reference_image_id\":\"rkeqWgq4Q\",\"image\":{\"id\":\"rkeqWgq4Q\",\"width\":762,\"height\":533,\"url\":\"https://cdn2.thedogapi.com/images/rkeqWgq4Q.jpg\"}},{\"weight\":{\"imperial\":\"20 - 30\",\"metric\":\"9 - 14\"},\"height\":{\"imperial\":\"14 - 15\",\"metric\":\"36 - 38\"},\"id\":86,\"name\":\"Cocker Spaniel\",\"bred_for\":\"Bird flushing, retrieving\",\"breed_group\":\"Sporting\",\"life_span\":\"12 - 15 years\",\"temperament\":\"Trainable, Friendly, Affectionate, Playful, Quiet, Faithful\",\"reference_image_id\":\"1lFmrzECl\",\"image\":{\"id\":\"1lFmrzECl\",\"width\":1080,\"height\":1080,\"url\":\"https://cdn2.thedogapi.com/images/1lFmrzECl.jpg\"}},{\"weight\":{\"imperial\":\"20 - 30\",\"metric\":\"9 - 14\"},\"height\":{\"imperial\":\"14 - 15\",\"metric\":\"36 - 38\"},\"id\":87,\"name\":\"Cocker Spaniel (American)\",\"bred_for\":\"Hunting the American woodcock\",\"breed_group\":\"Sporting\",\"life_span\":\"12 - 15 years\",\"temperament\":\"Outgoing, Sociable, Trusting, Joyful, Even Tempered, Merry\",\"reference_image_id\":\"HkRcZe547\",\"image\":{\"id\":\"HkRcZe547\",\"width\":1024,\"height\":640,\"url\":\"https://cdn2.thedogapi.com/images/HkRcZe547.jpg\"}},{\"weight\":{\"imperial\":\"9 - 15\",\"metric\":\"4 - 7\"},\"height\":{\"imperial\":\"9 - 11\",\"metric\":\"23 - 28\"},\"id\":89,\"name\":\"Coton de Tulear\",\"bred_for\":\"Accompanying ladies on long sea voyages, ratters onboard ship.\",\"breed_group\":\"Non-Sporting\",\"life_span\":\"13 - 16 years\",\"temperament\":\"Affectionate, Lively, Playful, Intelligent, Trainable, Vocal\",\"reference_image_id\":\"SyviZlqNm\",\"image\":{\"id\":\"SyviZlqNm\",\"width\":2464,\"height\":1638,\"url\":\"https://cdn2.thedogapi.com/images/SyviZlqNm.jpg\"}},{\"weight\":{\"imperial\":\"50 - 55\",\"metric\":\"23 - 25\"},\"height\":{\"imperial\":\"19 - 23\",\"metric\":\"48 - 58\"},\"id\":92,\"name\":\"Dalmatian\",\"bred_for\":\"Carriage dog - trot alongside carriages to protect the occupants from banditry or other interference\",\"breed_group\":\"Non-Sporting\",\"life_span\":\"10 - 13 years\",\"temperament\":\"Outgoing, Friendly, Energetic, Playful, Sensitive, Intelligent, Active\",\"reference_image_id\":\"SkJ3blcN7\",\"image\":{\"id\":\"SkJ3blcN7\",\"width\":1200,\"height\":800,\"url\":\"https://cdn2.thedogapi.com/images/SkJ3blcN7.jpg\"}},{\"weight\":{\"imperial\":\"66 - 88\",\"metric\":\"30 - 40\"},\"height\":{\"imperial\":\"24 - 28\",\"metric\":\"61 - 71\"},\"id\":94,\"name\":\"Doberman Pinscher\",\"bred_for\":\"Guardian\",\"breed_group\":\"Working\",\"life_span\":\"10 years\",\"temperament\":\"Fearless, Energetic, Alert, Loyal, Obedient, Confident, Intelligent\",\"reference_image_id\":\"HyL3bl94Q\",\"image\":{\"id\":\"HyL3bl94Q\",\"width\":1140,\"height\":640,\"url\":\"https://cdn2.thedogapi.com/images/HyL3bl94Q.jpg\"}},{\"weight\":{\"imperial\":\"80 - 100\",\"metric\":\"36 - 45\"},\"height\":{\"imperial\":\"23.5 - 27\",\"metric\":\"60 - 69\"},\"id\":95,\"name\":\"Dogo Argentino\",\"bred_for\":\"Big-game hunting\",\"breed_group\":\"Working\",\"life_span\":\"10 - 12 years\",\"temperament\":\"Friendly, Affectionate, Cheerful, Loyal, Tolerant, Protective\",\"reference_image_id\":\"S1nhWx94Q\",\"image\":{\"id\":\"S1nhWx94Q\",\"width\":650,\"height\":467,\"url\":\"https://cdn2.thedogapi.com/images/S1nhWx94Q.jpg\"}},{\"weight\":{\"imperial\":\"50 - 70\",\"metric\":\"23 - 32\"},\"height\":{\"imperial\":\"22 - 24.5\",\"metric\":\"56 - 62\"},\"id\":98,\"name\":\"Dutch Shepherd\",\"bred_for\":\"Farms, watchdog, guard duty\",\"life_span\":\"15 years\",\"temperament\":\"Reliable, Affectionate, Alert, Loyal, Obedient, Trainable\",\"reference_image_id\":\"BkE6Wg5E7\",\"image\":{\"id\":\"BkE6Wg5E7\",\"width\":856,\"height\":511,\"url\":\"https://cdn2.thedogapi.com/images/BkE6Wg5E7.jpg\"}},{\"weight\":{\"imperial\":\"45 - 80\",\"metric\":\"20 - 36\"},\"height\":{\"imperial\":\"24 - 25\",\"metric\":\"61 - 64\"},\"id\":101,\"name\":\"English Setter\",\"bred_for\":\"Bird setting, retrieving\",\"breed_group\":\"Sporting\",\"life_span\":\"12 years\",\"temperament\":\"Strong Willed, Mischievous, Affectionate, Energetic, Playful, Companionable, Gentle, Hard-working, Intelligent, Eager, People-Oriented\",\"reference_image_id\":\"By4A-eqVX\",\"image\":{\"id\":\"By4A-eqVX\",\"width\":1024,\"height\":683,\"url\":\"https://cdn2.thedogapi.com/images/By4A-eqVX.jpg\"}},{\"weight\":{\"imperial\":\"44 - 66\",\"metric\":\"20 - 30\"},\"height\":{\"imperial\":\"18 - 23\",\"metric\":\"46 - 58\"},\"id\":102,\"name\":\"English Shepherd\",\"bred_for\":\"Herding & guarding livestock, farm watch dog\",\"breed_group\":\"Working\",\"life_span\":\"10 - 13 years\",\"temperament\":\"Kind, Energetic, Independent, Adaptable, Intelligent, Bossy\",\"reference_image_id\":\"H1QyMe5EQ\",\"image\":{\"id\":\"H1QyMe5EQ\",\"width\":1920,\"height\":1280,\"url\":\"https://cdn2.thedogapi.com/images/H1QyMe5EQ.jpg\"}},{\"weight\":{\"imperial\":\"35 - 50\",\"metric\":\"16 - 23\"},\"height\":{\"imperial\":\"19 - 20\",\"metric\":\"48 - 51\"},\"id\":103,\"name\":\"English Springer Spaniel\",\"bred_for\":\"Bird flushing, retrieving\",\"breed_group\":\"Sporting\",\"life_span\":\"12 - 14 years\",\"temperament\":\"Affectionate, Cheerful, Alert, Intelligent, Attentive, Active\",\"reference_image_id\":\"Hk0Jfe5VQ\",\"image\":{\"id\":\"Hk0Jfe5VQ\",\"width\":1440,\"height\":1080,\"url\":\"https://cdn2.thedogapi.com/images/Hk0Jfe5VQ.jpg\"}},{\"weight\":{\"imperial\":\"8 - 14\",\"metric\":\"4 - 6\"},\"height\":{\"imperial\":\"10\",\"metric\":\"25\"},\"id\":104,\"name\":\"English Toy Spaniel\",\"bred_for\":\"Companion of kings\",\"breed_group\":\"Toy\",\"life_span\":\"10 - 12 years\",\"temperament\":\"Affectionate, Reserved, Playful, Gentle, Happy, Loving\",\"reference_image_id\":\"SkIgzxqNQ\",\"image\":{\"id\":\"SkIgzxqNQ\",\"width\":800,\"height\":696,\"url\":\"https://cdn2.thedogapi.com/images/SkIgzxqNQ.jpg\"}},{\"weight\":{\"imperial\":\"6 - 8\",\"metric\":\"3 - 4\"},\"height\":{\"imperial\":\"10 - 12\",\"metric\":\"25 - 30\"},\"id\":105,\"name\":\"English Toy Terrier\",\"bred_for\":\"Rat-baiting\",\"life_span\":\"12 - 13 years\",\"temperament\":\"Stubborn, Alert, Companionable, Intelligent, Cunning, Trainable\",\"reference_image_id\":\"SJ6eMxqEQ\",\"image\":{\"id\":\"SJ6eMxqEQ\",\"width\":645,\"height\":430,\"url\":\"https://cdn2.thedogapi.com/images/SJ6eMxqEQ.jpg\"}},{\"weight\":{\"imperial\":\"40 - 70\",\"metric\":\"18 - 32\"},\"height\":{\"imperial\":\"20.5 - 23.5\",\"metric\":\"52 - 60\"},\"id\":107,\"name\":\"Eurasier\",\"bred_for\":\"Companionship\",\"breed_group\":\"Non-Sporting\",\"life_span\":\"12 - 14 years\",\"temperament\":\"Alert, Reserved, Intelligent, Even Tempered, Watchful, Calm\",\"reference_image_id\":\"S1VWGx9Nm\",\"image\":{\"id\":\"S1VWGx9Nm\",\"width\":800,\"height\":532,\"url\":\"https://cdn2.thedogapi.com/images/S1VWGx9Nm.jpg\"}},{\"weight\":{\"imperial\":\"35 - 50\",\"metric\":\"16 - 23\"},\"height\":{\"imperial\":\"17 - 18\",\"metric\":\"43 - 46\"},\"id\":108,\"name\":\"Field Spaniel\",\"bred_for\":\"Bird flushing, retrieving\",\"breed_group\":\"Sporting\",\"life_span\":\"11 - 15 years\",\"temperament\":\"Docile, Cautious, Sociable, Sensitive, Adaptable, Familial\",\"reference_image_id\":\"SkJfGecE7\",\"image\":{\"id\":\"SkJfGecE7\",\"width\":1280,\"height\":906,\"url\":\"https://cdn2.thedogapi.com/images/SkJfGecE7.jpg\"}},{\"weight\":{\"imperial\":\"33 - 53\",\"metric\":\"15 - 24\"},\"height\":{\"imperial\":\"16 - 21\",\"metric\":\"41 - 53\"},\"id\":110,\"name\":\"Finnish Lapphund\",\"bred_for\":\"Herding reindeer\",\"breed_group\":\"Herding\",\"life_span\":\"12 - 15 years\",\"temperament\":\"Friendly, Keen, Faithful, Calm, Courageous\",\"reference_image_id\":\"S1KMGg5Vm\",\"image\":{\"id\":\"S1KMGg5Vm\",\"width\":1066,\"height\":800,\"url\":\"https://cdn2.thedogapi.com/images/S1KMGg5Vm.jpg\"}},{\"weight\":{\"imperial\":\"23 - 28\",\"metric\":\"10 - 13\"},\"height\":{\"imperial\":\"15.5 - 20\",\"metric\":\"39 - 51\"},\"id\":111,\"name\":\"Finnish Spitz\",\"bred_for\":\"Hunting birds, small mammals\",\"breed_group\":\"Non-Sporting\",\"life_span\":\"12 - 15 years\",\"temperament\":\"Playful, Loyal, Independent, Intelligent, Happy, Vocal\",\"reference_image_id\":\"3PjHlQbkV\",\"image\":{\"id\":\"3PjHlQbkV\",\"width\":500,\"height\":417,\"url\":\"https://cdn2.thedogapi.com/images/3PjHlQbkV.jpg\"}},{\"weight\":{\"imperial\":\"28\",\"metric\":\"13\"},\"height\":{\"imperial\":\"11 - 12\",\"metric\":\"28 - 30\"},\"id\":113,\"name\":\"French Bulldog\",\"bred_for\":\"Lapdog\",\"breed_group\":\"Non-Sporting\",\"life_span\":\"9 - 11 years\",\"temperament\":\"Playful, Affectionate, Keen, Sociable, Lively, Alert, Easygoing, Patient, Athletic, Bright\",\"reference_image_id\":\"HyWNfxc47\",\"image\":{\"id\":\"HyWNfxc47\",\"width\":740,\"height\":430,\"url\":\"https://cdn2.thedogapi.com/images/HyWNfxc47.jpg\"}},{\"weight\":{\"imperial\":\"25 - 45\",\"metric\":\"11 - 20\"},\"height\":{\"imperial\":\"17 - 20\",\"metric\":\"43 - 51\"},\"id\":114,\"name\":\"German Pinscher\",\"bred_for\":\"Watchdog, Hunting vermin on the farm.\",\"breed_group\":\"Working\",\"life_span\":\"12 - 14 years\",\"temperament\":\"Spirited, Lively, Intelligent, Loving, Even Tempered, Familial\",\"reference_image_id\":\"B1u4zgqE7\",\"image\":{\"id\":\"B1u4zgqE7\",\"width\":740,\"height\":480,\"url\":\"https://cdn2.thedogapi.com/images/B1u4zgqE7.jpg\"}},{\"weight\":{\"imperial\":\"50 - 90\",\"metric\":\"23 - 41\"},\"height\":{\"imperial\":\"22 - 26\",\"metric\":\"56 - 66\"},\"id\":115,\"name\":\"German Shepherd Dog\",\"bred_for\":\"Herding, Guard dog\",\"breed_group\":\"Herding\",\"life_span\":\"10 - 13 years\",\"temperament\":\"Alert, Loyal, Obedient, Curious, Confident, Intelligent, Watchful, Courageous\",\"reference_image_id\":\"SJyBfg5NX\",\"image\":{\"id\":\"SJyBfg5NX\",\"width\":600,\"height\":425,\"url\":\"https://cdn2.thedogapi.com/images/SJyBfg5NX.jpg\"}},{\"weight\":{\"imperial\":\"45 - 70\",\"metric\":\"20 - 32\"},\"height\":{\"imperial\":\"21 - 25\",\"metric\":\"53 - 64\"},\"id\":116,\"name\":\"German Shorthaired Pointer\",\"bred_for\":\"General hunting\",\"breed_group\":\"Sporting\",\"life_span\":\"12 - 14 years\",\"temperament\":\"Boisterous, Bold, Affectionate, Intelligent, Cooperative, Trainable\",\"reference_image_id\":\"SJqBMg5Nm\",\"image\":{\"id\":\"SJqBMg5Nm\",\"width\":1395,\"height\":1230,\"url\":\"https://cdn2.thedogapi.com/images/SJqBMg5Nm.jpg\"}},{\"weight\":{\"imperial\":\"65 - 90\",\"metric\":\"29 - 41\"},\"height\":{\"imperial\":\"23.5 - 27.5\",\"metric\":\"60 - 70\"},\"id\":119,\"name\":\"Giant Schnauzer\",\"bred_for\":\"Herding, guarding\",\"breed_group\":\"Working\",\"life_span\":\"10 - 12 years\",\"temperament\":\"Strong Willed, Kind, Loyal, Intelligent, Dominant, Powerful\",\"reference_image_id\":\"H1NIzlcV7\",\"image\":{\"id\":\"H1NIzlcV7\",\"width\":900,\"height\":600,\"url\":\"https://cdn2.thedogapi.com/images/H1NIzlcV7.jpg\"}},{\"weight\":{\"imperial\":\"32 - 40\",\"metric\":\"15 - 18\"},\"height\":{\"imperial\":\"12.5 - 14\",\"metric\":\"32 - 36\"},\"id\":120,\"name\":\"Glen of Imaal Terrier\",\"bred_for\":\"Rid the home and farm of vermin, and hunt badger and fox\",\"breed_group\":\"Terrier\",\"life_span\":\"12 - 15 years\",\"temperament\":\"Spirited, Agile, Loyal, Gentle, Active, Courageous\",\"reference_image_id\":\"H1oLMe94m\",\"image\":{\"id\":\"H1oLMe94m\",\"width\":645,\"height\":380,\"url\":\"https://cdn2.thedogapi.com/images/H1oLMe94m.jpg\"}},{\"weight\":{\"imperial\":\"55 - 75\",\"metric\":\"25 - 34\"},\"height\":{\"imperial\":\"21.5 - 24\",\"metric\":\"55 - 61\"},\"id\":121,\"name\":\"Golden Retriever\",\"bred_for\":\"Retrieving\",\"breed_group\":\"Sporting\",\"life_span\":\"10 - 12 years\",\"temperament\":\"Intelligent, Kind, Reliable, Friendly, Trustworthy, Confident\",\"reference_image_id\":\"HJ7Pzg5EQ\",\"image\":{\"id\":\"HJ7Pzg5EQ\",\"width\":900,\"height\":652,\"url\":\"https://cdn2.thedogapi.com/images/HJ7Pzg5EQ.jpg\"}},{\"weight\":{\"imperial\":\"45 - 80\",\"metric\":\"20 - 36\"},\"height\":{\"imperial\":\"23 - 27\",\"metric\":\"58 - 69\"},\"id\":123,\"name\":\"Gordon Setter\",\"bred_for\":\"Find and point gamebirds\",\"breed_group\":\"Sporting\",\"life_span\":\"10 - 12 years\",\"temperament\":\"Fearless, Alert, Loyal, Confident, Gay, Eager\",\"reference_image_id\":\"SJ5vzx5NX\",\"image\":{\"id\":\"SJ5vzx5NX\",\"width\":622,\"height\":467,\"url\":\"https://cdn2.thedogapi.com/images/SJ5vzx5NX.jpg\"}},{\"weight\":{\"imperial\":\"110 - 190\",\"metric\":\"50 - 86\"},\"height\":{\"imperial\":\"28 - 32\",\"metric\":\"71 - 81\"},\"id\":124,\"name\":\"Great Dane\",\"bred_for\":\"Hunting & holding boars, Guardian\",\"breed_group\":\"Working\",\"life_span\":\"7 - 10 years\",\"temperament\":\"Friendly, Devoted, Reserved, Gentle, Confident, Loving\",\"reference_image_id\":\"B1Edfl9NX\",\"image\":{\"id\":\"B1Edfl9NX\",\"width\":800,\"height\":732,\"url\":\"https://cdn2.thedogapi.com/images/B1Edfl9NX.jpg\"}},{\"weight\":{\"imperial\":\"85 - 115\",\"metric\":\"39 - 52\"},\"height\":{\"imperial\":\"25 - 32\",\"metric\":\"64 - 81\"},\"id\":125,\"name\":\"Great Pyrenees\",\"bred_for\":\"Sheep guardian\",\"breed_group\":\"Working\",\"life_span\":\"10 - 12 years\",\"temperament\":\"Strong Willed, Fearless, Affectionate, Patient, Gentle, Confident\",\"reference_image_id\":\"B12uzg9V7\",\"image\":{\"id\":\"B12uzg9V7\",\"width\":800,\"height\":550,\"url\":\"https://cdn2.thedogapi.com/images/B12uzg9V7.png\"}},{\"weight\":{\"imperial\":\"50 - 70\",\"metric\":\"23 - 32\"},\"height\":{\"imperial\":\"27 - 30\",\"metric\":\"69 - 76\"},\"id\":127,\"name\":\"Greyhound\",\"bred_for\":\"Coursing hares\",\"breed_group\":\"Hound\",\"life_span\":\"10 - 13 years\",\"temperament\":\"Affectionate, Athletic, Gentle, Intelligent, Quiet, Even Tempered\",\"reference_image_id\":\"ryNYMx94X\",\"image\":{\"id\":\"ryNYMx94X\",\"width\":1024,\"height\":681,\"url\":\"https://cdn2.thedogapi.com/images/ryNYMx94X.jpg\"}},{\"weight\":{\"imperial\":\"12\",\"metric\":\"5\"},\"height\":{\"imperial\":\"9 - 11\",\"metric\":\"23 - 28\"},\"id\":128,\"name\":\"Griffon Bruxellois\",\"bred_for\":\"Hunt and kill vermin in stables\",\"life_span\":\"10 – 15 years\",\"temperament\":\"Self-important, Inquisitive, Alert, Companionable, Sensitive, Watchful\",\"reference_image_id\":\"ryoYGec4Q\",\"image\":{\"id\":\"ryoYGec4Q\",\"width\":645,\"height\":380,\"url\":\"https://cdn2.thedogapi.com/images/ryoYGec4Q.jpg\"}},{\"weight\":{\"imperial\":\"40 - 60\",\"metric\":\"18 - 27\"},\"height\":{\"imperial\":\"18 - 22\",\"metric\":\"46 - 56\"},\"id\":129,\"name\":\"Harrier\",\"bred_for\":\"Hunting hares by trailing them\",\"breed_group\":\"Hound\",\"life_span\":\"12 - 15 years\",\"temperament\":\"Outgoing, Friendly, Cheerful, Sweet-Tempered, Tolerant, Active\",\"reference_image_id\":\"B1IcfgqE7\",\"image\":{\"id\":\"B1IcfgqE7\",\"width\":1920,\"height\":1080,\"url\":\"https://cdn2.thedogapi.com/images/B1IcfgqE7.jpg\"}},{\"weight\":{\"imperial\":\"7 - 13\",\"metric\":\"3 - 6\"},\"height\":{\"imperial\":\"8.5 - 11.5\",\"metric\":\"22 - 29\"},\"id\":130,\"name\":\"Havanese\",\"bred_for\":\"Companionship\",\"breed_group\":\"Toy\",\"life_span\":\"14 - 15 years\",\"temperament\":\"Affectionate, Responsive, Playful, Companionable, Gentle, Intelligent\",\"reference_image_id\":\"rkXiGl9V7\",\"image\":{\"id\":\"rkXiGl9V7\",\"width\":800,\"height\":507,\"url\":\"https://cdn2.thedogapi.com/images/rkXiGl9V7.jpg\"}},{\"weight\":{\"imperial\":\"35 - 70\",\"metric\":\"16 - 32\"},\"height\":{\"imperial\":\"24 - 27\",\"metric\":\"61 - 69\"},\"id\":134,\"name\":\"Irish Setter\",\"bred_for\":\"Bird setting, retrieving\",\"breed_group\":\"Sporting\",\"life_span\":\"10 - 11 years\",\"temperament\":\"Affectionate, Energetic, Lively, Independent, Playful, Companionable\",\"reference_image_id\":\"S1osGeqVm\",\"image\":{\"id\":\"S1osGeqVm\",\"width\":818,\"height\":522,\"url\":\"https://cdn2.thedogapi.com/images/S1osGeqVm.jpg\"}},{\"weight\":{\"imperial\":\"25 - 27\",\"metric\":\"11 - 12\"},\"height\":{\"imperial\":\"18\",\"metric\":\"46\"},\"id\":135,\"name\":\"Irish Terrier\",\"breed_group\":\"Terrier\",\"life_span\":\"12 - 16 years\",\"temperament\":\"Respectful, Lively, Intelligent, Dominant, Protective, Trainable\",\"reference_image_id\":\"By-hGecVX\",\"image\":{\"id\":\"By-hGecVX\",\"width\":800,\"height\":626,\"url\":\"https://cdn2.thedogapi.com/images/By-hGecVX.jpg\"}},{\"weight\":{\"imperial\":\"105 - 180\",\"metric\":\"48 - 82\"},\"height\":{\"imperial\":\"30 - 35\",\"metric\":\"76 - 89\"},\"id\":137,\"name\":\"Irish Wolfhound\",\"bred_for\":\"Coursing wolves, elk\",\"breed_group\":\"Hound\",\"life_span\":\"6 - 8 years\",\"temperament\":\"Sweet-Tempered, Loyal, Dignified, Patient, Thoughtful, Generous\",\"reference_image_id\":\"Hyd2zgcEX\",\"image\":{\"id\":\"Hyd2zgcEX\",\"width\":1000,\"height\":630,\"url\":\"https://cdn2.thedogapi.com/images/Hyd2zgcEX.jpg\"}},{\"weight\":{\"imperial\":\"7 - 15\",\"metric\":\"3 - 7\"},\"height\":{\"imperial\":\"13 - 15\",\"metric\":\"33 - 38\"},\"id\":138,\"name\":\"Italian Greyhound\",\"bred_for\":\"Lapdog\",\"breed_group\":\"Toy\",\"life_span\":\"12 - 15 years\",\"temperament\":\"Mischievous, Affectionate, Agile, Athletic, Companionable, Intelligent\",\"reference_image_id\":\"SJAnzg9NX\",\"image\":{\"id\":\"SJAnzg9NX\",\"width\":640,\"height\":377,\"url\":\"https://cdn2.thedogapi.com/images/SJAnzg9NX.jpg\"}},{\"weight\":{\"imperial\":\"4 - 9\",\"metric\":\"2 - 4\"},\"height\":{\"imperial\":\"8 - 11\",\"metric\":\"20 - 28\"},\"id\":140,\"name\":\"Japanese Chin\",\"bred_for\":\"Lapdog\",\"breed_group\":\"Toy\",\"life_span\":\"12 - 14 years\",\"temperament\":\"Alert, Loyal, Independent, Intelligent, Loving, Cat-like\",\"reference_image_id\":\"r1H6feqEm\",\"image\":{\"id\":\"r1H6feqEm\",\"width\":900,\"height\":581,\"url\":\"https://cdn2.thedogapi.com/images/r1H6feqEm.jpg\"}},{\"weight\":{\"imperial\":\"15 - 19\",\"metric\":\"7 - 9\"},\"height\":{\"imperial\":\"12 - 15\",\"metric\":\"30 - 38\"},\"id\":141,\"name\":\"Japanese Spitz\",\"bred_for\":\"Companion\",\"life_span\":\"10 – 16 years\",\"temperament\":\"Affectionate, Obedient, Playful, Companionable, Intelligent, Proud\",\"reference_image_id\":\"HksaMxqNX\",\"image\":{\"id\":\"HksaMxqNX\",\"width\":600,\"height\":351,\"url\":\"https://cdn2.thedogapi.com/images/HksaMxqNX.jpg\"}},{\"weight\":{\"imperial\":\"35 - 45\",\"metric\":\"16 - 20\"},\"height\":{\"imperial\":\"17 - 18\",\"metric\":\"43 - 46\"},\"id\":142,\"name\":\"Keeshond\",\"bred_for\":\"Barge watchdog\",\"breed_group\":\"Non-Sporting\",\"life_span\":\"12 - 15 years\",\"temperament\":\"Agile, Obedient, Playful, Quick, Sturdy, Bright\",\"reference_image_id\":\"S1GAGg9Vm\",\"image\":{\"id\":\"S1GAGg9Vm\",\"width\":1024,\"height\":683,\"url\":\"https://cdn2.thedogapi.com/images/S1GAGg9Vm.jpg\"}},{\"weight\":{\"imperial\":\"80 - 100\",\"metric\":\"36 - 45\"},\"height\":{\"imperial\":\"25.5 - 27.5\",\"metric\":\"65 - 70\"},\"id\":144,\"name\":\"Komondor\",\"bred_for\":\"Sheep guardian\",\"breed_group\":\"Working\",\"life_span\":\"10 - 12 years\",\"temperament\":\"Steady, Fearless, Affectionate, Independent, Gentle, Calm\",\"reference_image_id\":\"Bko0fl547\",\"image\":{\"id\":\"Bko0fl547\",\"width\":1030,\"height\":772,\"url\":\"https://cdn2.thedogapi.com/images/Bko0fl547.jpg\"}},{\"weight\":{\"imperial\":\"20 - 30\",\"metric\":\"9 - 14\"},\"height\":{\"imperial\":\"14 - 16\",\"metric\":\"36 - 41\"},\"id\":145,\"name\":\"Kooikerhondje\",\"bred_for\":\"Luring ducks into traps - \\\\\"tolling\\\\\"\",\"breed_group\":\"Sporting\",\"life_span\":\"12 - 15 years\",\"temperament\":\"Benevolent, Agile, Alert, Intelligent, Active, Territorial\",\"reference_image_id\":\"kOMy84GQE\",\"image\":{\"id\":\"kOMy84GQE\",\"width\":1080,\"height\":1080,\"url\":\"https://cdn2.thedogapi.com/images/kOMy84GQE.jpg\"}},{\"weight\":{\"imperial\":\"70 - 115\",\"metric\":\"32 - 52\"},\"height\":{\"imperial\":\"26 - 30\",\"metric\":\"66 - 76\"},\"id\":147,\"name\":\"Kuvasz\",\"bred_for\":\"Guardian, hunting large game\",\"breed_group\":\"Working\",\"life_span\":\"8 - 10 years\",\"temperament\":\"Clownish, Loyal, Patient, Independent, Intelligent, Protective\",\"reference_image_id\":\"BykZ7ecVX\",\"image\":{\"id\":\"BykZ7ecVX\",\"width\":960,\"height\":768,\"url\":\"https://cdn2.thedogapi.com/images/BykZ7ecVX.jpg\"}},{\"weight\":{\"imperial\":\"55 - 80\",\"metric\":\"25 - 36\"},\"height\":{\"imperial\":\"21.5 - 24.5\",\"metric\":\"55 - 62\"},\"id\":149,\"name\":\"Labrador Retriever\",\"bred_for\":\"Water retrieving\",\"breed_group\":\"Sporting\",\"life_span\":\"10 - 13 years\",\"temperament\":\"Kind, Outgoing, Agile, Gentle, Intelligent, Trusting, Even Tempered\",\"reference_image_id\":\"B1uW7l5VX\",\"image\":{\"id\":\"B1uW7l5VX\",\"width\":992,\"height\":667,\"url\":\"https://cdn2.thedogapi.com/images/B1uW7l5VX.jpg\"}},{\"weight\":{\"imperial\":\"24 - 35\",\"metric\":\"11 - 16\"},\"height\":{\"imperial\":\"16 - 19\",\"metric\":\"41 - 48\"},\"id\":151,\"name\":\"Lagotto Romagnolo\",\"bred_for\":\"Water retrieval dog in the marshes of Romagna\",\"breed_group\":\"Sporting\",\"life_span\":\"14 - 16 years\",\"temperament\":\"Keen, Loyal, Companionable, Loving, Active, Trainable\",\"reference_image_id\":\"ryzzmgqE7\",\"image\":{\"id\":\"ryzzmgqE7\",\"width\":1600,\"height\":1200,\"url\":\"https://cdn2.thedogapi.com/images/ryzzmgqE7.jpg\"}},{\"weight\":{\"imperial\":\"6 - 13\",\"metric\":\"3 - 6\"},\"height\":{\"imperial\":\"10 - 12\",\"metric\":\"25 - 30\"},\"id\":153,\"name\":\"Lancashire Heeler\",\"bred_for\":\"Cattle herding, Ratting, Driving cattle to market.\",\"life_span\":\"12 – 15 years\",\"temperament\":\"Clever, Friendly, Alert, Intelligent\",\"reference_image_id\":\"S1RGml5Em\",\"image\":{\"id\":\"S1RGml5Em\",\"width\":680,\"height\":453,\"url\":\"https://cdn2.thedogapi.com/images/S1RGml5Em.jpg\"}},{\"weight\":{\"imperial\":\"120 - 170\",\"metric\":\"54 - 77\"},\"height\":{\"imperial\":\"25.5 - 31.5\",\"metric\":\"65 - 80\"},\"id\":155,\"name\":\"Leonberger\",\"bred_for\":\"Guardian, appearance.\",\"breed_group\":\"Working\",\"life_span\":\"6 - 8 years\",\"temperament\":\"Obedient, Fearless, Loyal, Companionable, Adaptable, Loving\",\"reference_image_id\":\"ByrmQlqVm\",\"image\":{\"id\":\"ByrmQlqVm\",\"width\":1024,\"height\":694,\"url\":\"https://cdn2.thedogapi.com/images/ByrmQlqVm.jpg\"}},{\"weight\":{\"imperial\":\"12 - 18\",\"metric\":\"5 - 8\"},\"height\":{\"imperial\":\"10 - 11\",\"metric\":\"25 - 28\"},\"id\":156,\"name\":\"Lhasa Apso\",\"bred_for\":\"Guarding inside the home, companion\",\"breed_group\":\"Non-Sporting\",\"life_span\":\"12 - 15 years\",\"temperament\":\"Steady, Fearless, Friendly, Devoted, Assertive, Spirited, Energetic, Lively, Alert, Obedient, Playful, Intelligent\",\"reference_image_id\":\"SJp7Qe5EX\",\"image\":{\"id\":\"SJp7Qe5EX\",\"width\":680,\"height\":444,\"url\":\"https://cdn2.thedogapi.com/images/SJp7Qe5EX.jpg\"}},{\"weight\":{\"imperial\":\"4 - 7\",\"metric\":\"2 - 3\"},\"height\":{\"imperial\":\"8 - 10\",\"metric\":\"20 - 25\"},\"id\":161,\"name\":\"Maltese\",\"bred_for\":\"Lapdog\",\"breed_group\":\"Toy\",\"life_span\":\"15 - 18 years\",\"temperament\":\"Playful, Docile, Fearless, Affectionate, Sweet-Tempered, Lively, Responsive, Easygoing, Gentle, Intelligent, Active\",\"reference_image_id\":\"B1SV7gqN7\",\"image\":{\"id\":\"B1SV7gqN7\",\"width\":680,\"height\":453,\"url\":\"https://cdn2.thedogapi.com/images/B1SV7gqN7.jpg\"}},{\"weight\":{\"imperial\":\"20 - 40\",\"metric\":\"9 - 18\"},\"height\":{\"imperial\":\"13 - 18\",\"metric\":\"33 - 46\"},\"id\":165,\"name\":\"Miniature American Shepherd\",\"breed_group\":\"Herding\",\"life_span\":\"12 - 15 years\",\"temperament\":\"Energetic, Loyal, Intelligent, Trainable\",\"reference_image_id\":\"BkHHQgcN7\",\"image\":{\"id\":\"BkHHQgcN7\",\"width\":920,\"height\":640,\"url\":\"https://cdn2.thedogapi.com/images/BkHHQgcN7.jpg\"}},{\"weight\":{\"imperial\":\"8 - 11\",\"metric\":\"4 - 5\"},\"height\":{\"imperial\":\"10 - 12.5\",\"metric\":\"25 - 32\"},\"id\":167,\"name\":\"Miniature Pinscher\",\"bred_for\":\"Small vermin hunting\",\"breed_group\":\"Toy\",\"life_span\":\"15 years\",\"temperament\":\"Clever, Outgoing, Friendly, Energetic, Responsive, Playful\",\"reference_image_id\":\"Hy3H7g94X\",\"image\":{\"id\":\"Hy3H7g94X\",\"width\":1500,\"height\":1125,\"url\":\"https://cdn2.thedogapi.com/images/Hy3H7g94X.jpg\"}},{\"weight\":{\"imperial\":\"11 - 20\",\"metric\":\"5 - 9\"},\"height\":{\"imperial\":\"12 - 14\",\"metric\":\"30 - 36\"},\"id\":168,\"name\":\"Miniature Schnauzer\",\"bred_for\":\"Ratting\",\"breed_group\":\"Terrier\",\"life_span\":\"12 - 14 years\",\"temperament\":\"Fearless, Friendly, Spirited, Alert, Obedient, Intelligent\",\"reference_image_id\":\"SJIUQl9NX\",\"image\":{\"id\":\"SJIUQl9NX\",\"width\":800,\"height\":533,\"url\":\"https://cdn2.thedogapi.com/images/SJIUQl9NX.jpg\"}},{\"weight\":{\"imperial\":\"100 - 150\",\"metric\":\"45 - 68\"},\"height\":{\"imperial\":\"26 - 28\",\"metric\":\"66 - 71\"},\"id\":171,\"name\":\"Newfoundland\",\"bred_for\":\"All purpose water dog, fishing aid\",\"breed_group\":\"Working\",\"life_span\":\"8 - 10 years\",\"temperament\":\"Sweet-Tempered, Gentle, Trainable\",\"reference_image_id\":\"Sk4DXl54m\",\"image\":{\"id\":\"Sk4DXl54m\",\"width\":1174,\"height\":986,\"url\":\"https://cdn2.thedogapi.com/images/Sk4DXl54m.jpg\"}},{\"weight\":{\"imperial\":\"11 - 12\",\"metric\":\"5 - 5\"},\"height\":{\"imperial\":\"9 - 10\",\"metric\":\"23 - 25\"},\"id\":172,\"name\":\"Norfolk Terrier\",\"bred_for\":\"Ratting, fox bolting\",\"breed_group\":\"Terrier\",\"life_span\":\"12 - 15 years\",\"temperament\":\"Self-confidence, Fearless, Spirited, Companionable, Happy, Lovable\",\"reference_image_id\":\"B1ADQg94X\",\"image\":{\"id\":\"B1ADQg94X\",\"width\":1468,\"height\":1092,\"url\":\"https://cdn2.thedogapi.com/images/B1ADQg94X.jpg\"}},{\"weight\":{\"imperial\":\"11 - 12\",\"metric\":\"5 - 5\"},\"height\":{\"imperial\":\"10\",\"metric\":\"25\"},\"id\":176,\"name\":\"Norwich Terrier\",\"bred_for\":\"Ratting, fox bolting\",\"breed_group\":\"Terrier\",\"life_span\":\"12 - 15 years\",\"temperament\":\"Hardy, Affectionate, Energetic, Sensitive, Intelligent\",\"reference_image_id\":\"BkgKXlqE7\",\"image\":{\"id\":\"BkgKXlqE7\",\"width\":1140,\"height\":640,\"url\":\"https://cdn2.thedogapi.com/images/BkgKXlqE7.jpg\"}},{\"weight\":{\"imperial\":\"35 - 50\",\"metric\":\"16 - 23\"},\"height\":{\"imperial\":\"17 - 21\",\"metric\":\"43 - 53\"},\"id\":177,\"name\":\"Nova Scotia Duck Tolling Retriever\",\"breed_group\":\"Sporting\",\"life_span\":\"12 - 14 years\",\"temperament\":\"Outgoing, Alert, Patient, Intelligent, Loving\",\"reference_image_id\":\"SyYtQe5V7\",\"image\":{\"id\":\"SyYtQe5V7\",\"width\":630,\"height\":420,\"url\":\"https://cdn2.thedogapi.com/images/SyYtQe5V7.jpg\"}},{\"weight\":{\"imperial\":\"60 - 100\",\"metric\":\"27 - 45\"},\"height\":{\"imperial\":\"21\",\"metric\":\"53\"},\"id\":178,\"name\":\"Old English Sheepdog\",\"bred_for\":\"Driving sheep, cattle\",\"breed_group\":\"Herding\",\"life_span\":\"10 - 12 years\",\"temperament\":\"Sociable, Bubbly, Playful, Adaptable, Intelligent, Loving\",\"reference_image_id\":\"HkZ57lq4m\",\"image\":{\"id\":\"HkZ57lq4m\",\"width\":1334,\"height\":889,\"url\":\"https://cdn2.thedogapi.com/images/HkZ57lq4m.jpg\"}},{\"weight\":{\"imperial\":\"65 – 85\",\"metric\":\"NaN\"},\"height\":{\"imperial\":\"15 - 19\",\"metric\":\"38 - 48\"},\"id\":179,\"name\":\"Olde English Bulldogge\",\"life_span\":\"9 – 14 years\",\"temperament\":\"Friendly, Alert, Confident, Loving, Courageous, Strong\",\"reference_image_id\":\"B1d5me547\",\"image\":{\"id\":\"B1d5me547\",\"width\":554,\"height\":546,\"url\":\"https://cdn2.thedogapi.com/images/B1d5me547.jpg\"}},{\"weight\":{\"imperial\":\"3 - 12\",\"metric\":\"1 - 5\"},\"height\":{\"imperial\":\"8 - 11\",\"metric\":\"20 - 28\"},\"id\":181,\"name\":\"Papillon\",\"bred_for\":\"Lapdog\",\"breed_group\":\"Toy\",\"life_span\":\"13 - 17 years\",\"temperament\":\"Hardy, Friendly, Energetic, Alert, Intelligent, Happy\",\"reference_image_id\":\"SkJj7e547\",\"image\":{\"id\":\"SkJj7e547\",\"width\":960,\"height\":765,\"url\":\"https://cdn2.thedogapi.com/images/SkJj7e547.jpg\"}},{\"weight\":{\"imperial\":\"14\",\"metric\":\"6\"},\"height\":{\"imperial\":\"6 - 9\",\"metric\":\"15 - 23\"},\"id\":183,\"name\":\"Pekingese\",\"bred_for\":\"Lapdog\",\"breed_group\":\"Toy\",\"life_span\":\"14 - 18 years\",\"temperament\":\"Opinionated, Good-natured, Stubborn, Affectionate, Aggressive, Intelligent\",\"reference_image_id\":\"ByIiml9Nm\",\"image\":{\"id\":\"ByIiml9Nm\",\"width\":960,\"height\":640,\"url\":\"https://cdn2.thedogapi.com/images/ByIiml9Nm.jpg\"}},{\"weight\":{\"imperial\":\"25 - 30\",\"metric\":\"11 - 14\"},\"height\":{\"imperial\":\"10 - 12\",\"metric\":\"25 - 30\"},\"id\":184,\"name\":\"Pembroke Welsh Corgi\",\"bred_for\":\"Driving stock to market in northern Wales\",\"breed_group\":\"Herding\",\"life_span\":\"12 - 14 years\",\"temperament\":\"Tenacious, Outgoing, Friendly, Bold, Playful, Protective\",\"reference_image_id\":\"rJ6iQeqEm\",\"image\":{\"id\":\"rJ6iQeqEm\",\"width\":1280,\"height\":720,\"url\":\"https://cdn2.thedogapi.com/images/rJ6iQeqEm.jpg\"}},{\"weight\":{\"imperial\":\"88 - 110\",\"metric\":\"40 - 50\"},\"height\":{\"imperial\":\"22 - 25.5\",\"metric\":\"56 - 65\"},\"id\":185,\"name\":\"Perro de Presa Canario\",\"breed_group\":\"Working\",\"life_span\":\"10 - 12 years\",\"temperament\":\"Strong Willed, Suspicious, Gentle, Dominant, Calm\",\"reference_image_id\":\"S1V3Qeq4X\",\"image\":{\"id\":\"S1V3Qeq4X\",\"width\":600,\"height\":483,\"url\":\"https://cdn2.thedogapi.com/images/S1V3Qeq4X.jpg\"}},{\"weight\":{\"imperial\":\"40 - 60\",\"metric\":\"18 - 27\"},\"height\":{\"imperial\":\"21 - 25\",\"metric\":\"53 - 64\"},\"id\":188,\"name\":\"Pharaoh Hound\",\"bred_for\":\"Hunting rabbits\",\"breed_group\":\"Hound\",\"life_span\":\"12 - 14 years\",\"temperament\":\"Affectionate, Sociable, Playful, Intelligent, Active, Trainable\",\"reference_image_id\":\"Byz6mgqEQ\",\"image\":{\"id\":\"Byz6mgqEQ\",\"width\":3918,\"height\":2938,\"url\":\"https://cdn2.thedogapi.com/images/Byz6mgqEQ.jpg\"}},{\"weight\":{\"imperial\":\"40 - 60\",\"metric\":\"18 - 27\"},\"height\":{\"imperial\":\"20 - 25\",\"metric\":\"51 - 64\"},\"id\":189,\"name\":\"Plott\",\"bred_for\":\"Hunting big-game like Boar.\",\"breed_group\":\"Hound\",\"life_span\":\"12 - 14 years\",\"temperament\":\"Bold, Alert, Loyal, Intelligent\",\"reference_image_id\":\"B1i67l5VQ\",\"image\":{\"id\":\"B1i67l5VQ\",\"width\":640,\"height\":480,\"url\":\"https://cdn2.thedogapi.com/images/B1i67l5VQ.jpg\"}},{\"weight\":{\"imperial\":\"3 - 7\",\"metric\":\"1 - 3\"},\"height\":{\"imperial\":\"8 - 12\",\"metric\":\"20 - 30\"},\"id\":193,\"name\":\"Pomeranian\",\"bred_for\":\"Companion\",\"breed_group\":\"Toy\",\"life_span\":\"15 years\",\"temperament\":\"Extroverted, Friendly, Sociable, Playful, Intelligent, Active\",\"reference_image_id\":\"HJd0XecNX\",\"image\":{\"id\":\"HJd0XecNX\",\"width\":800,\"height\":532,\"url\":\"https://cdn2.thedogapi.com/images/HJd0XecNX.jpg\"}},{\"weight\":{\"imperial\":\"15 - 17\",\"metric\":\"7 - 8\"},\"height\":{\"imperial\":\"11 - 15\",\"metric\":\"28 - 38\"},\"id\":196,\"name\":\"Poodle (Miniature)\",\"life_span\":\"12 – 15 years\",\"reference_image_id\":\"Hkxk4ecVX\",\"image\":{\"id\":\"Hkxk4ecVX\",\"width\":1280,\"height\":853,\"url\":\"https://cdn2.thedogapi.com/images/Hkxk4ecVX.jpg\"}},{\"weight\":{\"imperial\":\"6 - 9\",\"metric\":\"3 - 4\"},\"height\":{\"imperial\":\"9 - 11\",\"metric\":\"23 - 28\"},\"id\":197,\"name\":\"Poodle (Toy)\",\"life_span\":\"18 years\",\"reference_image_id\":\"rJFJVxc4m\",\"image\":{\"id\":\"rJFJVxc4m\",\"width\":620,\"height\":403,\"url\":\"https://cdn2.thedogapi.com/images/rJFJVxc4m.jpg\"}},{\"weight\":{\"imperial\":\"14 - 18\",\"metric\":\"6 - 8\"},\"height\":{\"imperial\":\"10 - 12\",\"metric\":\"25 - 30\"},\"id\":201,\"name\":\"Pug\",\"bred_for\":\"Lapdog\",\"breed_group\":\"Toy\",\"life_span\":\"12 - 14 years\",\"temperament\":\"Docile, Clever, Charming, Stubborn, Sociable, Playful, Quiet, Attentive\",\"reference_image_id\":\"HyJvcl9N7\",\"image\":{\"id\":\"HyJvcl9N7\",\"width\":800,\"height\":600,\"url\":\"https://cdn2.thedogapi.com/images/HyJvcl9N7.jpg\"}},{\"weight\":{\"imperial\":\"25 - 35\",\"metric\":\"11 - 16\"},\"height\":{\"imperial\":\"16 - 17\",\"metric\":\"41 - 43\"},\"id\":204,\"name\":\"Puli\",\"bred_for\":\"Herding\",\"breed_group\":\"Herding\",\"life_span\":\"12 - 16 Years years\",\"temperament\":\"Energetic, Agile, Loyal, Obedient, Intelligent, Faithful\",\"reference_image_id\":\"ryPgVl5N7\",\"image\":{\"id\":\"ryPgVl5N7\",\"width\":1199,\"height\":829,\"url\":\"https://cdn2.thedogapi.com/images/ryPgVl5N7.jpg\"}},{\"weight\":{\"imperial\":\"18 - 33\",\"metric\":\"8 - 15\"},\"height\":{\"imperial\":\"15 - 18.5\",\"metric\":\"38 - 47\"},\"id\":205,\"name\":\"Pumi\",\"breed_group\":\"Herding\",\"life_span\":\"13 - 15 years\",\"temperament\":\"Lively, Reserved, Intelligent, Active, Protective, Vocal\",\"reference_image_id\":\"SyRe4xcN7\",\"image\":{\"id\":\"SyRe4xcN7\",\"width\":695,\"height\":391,\"url\":\"https://cdn2.thedogapi.com/images/SyRe4xcN7.jpg\"}},{\"weight\":{\"imperial\":\"8 - 25\",\"metric\":\"4 - 11\"},\"height\":{\"imperial\":\"10 - 13\",\"metric\":\"25 - 33\"},\"id\":207,\"name\":\"Rat Terrier\",\"breed_group\":\"Terrier\",\"life_span\":\"12 - 18 years\",\"temperament\":\"Affectionate, Lively, Inquisitive, Alert, Intelligent, Loving\",\"reference_image_id\":\"HkXWNl9E7\",\"image\":{\"id\":\"HkXWNl9E7\",\"width\":825,\"height\":689,\"url\":\"https://cdn2.thedogapi.com/images/HkXWNl9E7.jpg\"}},{\"weight\":{\"imperial\":\"45 - 80\",\"metric\":\"20 - 36\"},\"height\":{\"imperial\":\"21 - 27\",\"metric\":\"53 - 69\"},\"id\":208,\"name\":\"Redbone Coonhound\",\"bred_for\":\"Hunting raccoon, deer, bear, and cougar.\",\"breed_group\":\"Hound\",\"life_span\":\"10 - 12 years\",\"temperament\":\"Affectionate, Energetic, Independent, Companionable, Familial, Unflappable\",\"reference_image_id\":\"HJMzEl5N7\",\"image\":{\"id\":\"HJMzEl5N7\",\"width\":1537,\"height\":1323,\"url\":\"https://cdn2.thedogapi.com/images/HJMzEl5N7.jpg\"}},{\"weight\":{\"imperial\":\"75 - 80\",\"metric\":\"34 - 36\"},\"height\":{\"imperial\":\"24 - 27\",\"metric\":\"61 - 69\"},\"id\":209,\"name\":\"Rhodesian Ridgeback\",\"bred_for\":\"Big game hunting, guarding\",\"breed_group\":\"Hound\",\"life_span\":\"10 - 12 years\",\"temperament\":\"Strong Willed, Mischievous, Loyal, Dignified, Sensitive, Intelligent\",\"reference_image_id\":\"By9zNgqE7\",\"image\":{\"id\":\"By9zNgqE7\",\"width\":1000,\"height\":667,\"url\":\"https://cdn2.thedogapi.com/images/By9zNgqE7.jpg\"}},{\"weight\":{\"imperial\":\"75 - 110\",\"metric\":\"34 - 50\"},\"height\":{\"imperial\":\"22 - 27\",\"metric\":\"56 - 69\"},\"id\":210,\"name\":\"Rottweiler\",\"bred_for\":\"Cattle drover, guardian, draft\",\"breed_group\":\"Working\",\"life_span\":\"8 - 10 years\",\"temperament\":\"Steady, Good-natured, Fearless, Devoted, Alert, Obedient, Confident, Self-assured, Calm, Courageous\",\"reference_image_id\":\"r1xXEgcNX\",\"image\":{\"id\":\"r1xXEgcNX\",\"width\":736,\"height\":595,\"url\":\"https://cdn2.thedogapi.com/images/r1xXEgcNX.jpg\"}},{\"weight\":{\"imperial\":\"3 - 6\",\"metric\":\"1 - 3\"},\"height\":{\"imperial\":\"7.5 - 10.5\",\"metric\":\"19 - 27\"},\"id\":211,\"name\":\"Russian Toy\",\"breed_group\":\"Toy\",\"life_span\":\"10 - 12 years\",\"reference_image_id\":\"HkP7Vxc4Q\",\"image\":{\"id\":\"HkP7Vxc4Q\",\"width\":645,\"height\":380,\"url\":\"https://cdn2.thedogapi.com/images/HkP7Vxc4Q.jpg\"}},{\"weight\":{\"imperial\":\"130 - 180\",\"metric\":\"59 - 82\"},\"height\":{\"imperial\":\"25.5 - 27.5\",\"metric\":\"65 - 70\"},\"id\":212,\"name\":\"Saint Bernard\",\"bred_for\":\"Draft, search, rescue\",\"breed_group\":\"Working\",\"life_span\":\"7 - 10 years\",\"temperament\":\"Friendly, Lively, Gentle, Watchful, Calm\",\"reference_image_id\":\"_Qf9nfRzL\",\"image\":{\"id\":\"_Qf9nfRzL\",\"width\":1080,\"height\":1084,\"url\":\"https://cdn2.thedogapi.com/images/_Qf9nfRzL.png\"}},{\"weight\":{\"imperial\":\"35 - 65\",\"metric\":\"16 - 29\"},\"height\":{\"imperial\":\"23 - 28\",\"metric\":\"58 - 71\"},\"id\":213,\"name\":\"Saluki\",\"bred_for\":\"Coursing gazelle and hare\",\"breed_group\":\"Hound\",\"life_span\":\"12 - 14 years\",\"temperament\":\"Aloof, Reserved, Intelligent, Quiet\",\"reference_image_id\":\"fjFIuehNo\",\"image\":{\"id\":\"fjFIuehNo\",\"width\":750,\"height\":450,\"url\":\"https://cdn2.thedogapi.com/images/fjFIuehNo.jpg\"}},{\"weight\":{\"imperial\":\"50 - 60\",\"metric\":\"23 - 27\"},\"height\":{\"imperial\":\"19 - 23.5\",\"metric\":\"48 - 60\"},\"id\":214,\"name\":\"Samoyed\",\"bred_for\":\"Herding reindeer, guardian, draft\",\"breed_group\":\"Working\",\"life_span\":\"12 - 14 years\",\"temperament\":\"Stubborn, Friendly, Sociable, Lively, Alert, Playful\",\"reference_image_id\":\"S1T8Ee9Nm\",\"image\":{\"id\":\"S1T8Ee9Nm\",\"width\":1200,\"height\":797,\"url\":\"https://cdn2.thedogapi.com/images/S1T8Ee9Nm.jpg\"}},{\"weight\":{\"imperial\":\"10 - 16\",\"metric\":\"5 - 7\"},\"height\":{\"imperial\":\"10 - 13\",\"metric\":\"25 - 33\"},\"id\":216,\"name\":\"Schipperke\",\"bred_for\":\"Barge watchdog\",\"breed_group\":\"Non-Sporting\",\"life_span\":\"13 - 15 years\",\"temperament\":\"Fearless, Agile, Curious, Independent, Confident, Faithful\",\"reference_image_id\":\"SyBvVgc47\",\"image\":{\"id\":\"SyBvVgc47\",\"width\":1024,\"height\":681,\"url\":\"https://cdn2.thedogapi.com/images/SyBvVgc47.jpg\"}},{\"weight\":{\"imperial\":\"70 - 130\",\"metric\":\"32 - 59\"},\"height\":{\"imperial\":\"28 - 32\",\"metric\":\"71 - 81\"},\"id\":218,\"name\":\"Scottish Deerhound\",\"bred_for\":\"Coursing deer\",\"breed_group\":\"Hound\",\"life_span\":\"8 - 10 years\",\"temperament\":\"Docile, Friendly, Dignified, Gentle\",\"reference_image_id\":\"SkNjqx9NQ\",\"image\":{\"id\":\"SkNjqx9NQ\",\"width\":700,\"height\":480,\"url\":\"https://cdn2.thedogapi.com/images/SkNjqx9NQ.jpg\"}},{\"weight\":{\"imperial\":\"18 - 22\",\"metric\":\"8 - 10\"},\"height\":{\"imperial\":\"10\",\"metric\":\"25\"},\"id\":219,\"name\":\"Scottish Terrier\",\"bred_for\":\"Vermin hunting\",\"breed_group\":\"Terrier\",\"life_span\":\"11 - 13 years\",\"temperament\":\"Feisty, Alert, Independent, Playful, Quick, Self-assured\",\"reference_image_id\":\"Bklnce5NX\",\"image\":{\"id\":\"Bklnce5NX\",\"width\":1280,\"height\":976,\"url\":\"https://cdn2.thedogapi.com/images/Bklnce5NX.jpg\"}},{\"weight\":{\"imperial\":\"30\",\"metric\":\"14\"},\"height\":{\"imperial\":\"13 - 16\",\"metric\":\"33 - 41\"},\"id\":221,\"name\":\"Shetland Sheepdog\",\"bred_for\":\"Sheep herding\",\"breed_group\":\"Herding\",\"life_span\":\"12 - 14 years\",\"temperament\":\"Affectionate, Lively, Responsive, Alert, Loyal, Reserved, Playful, Gentle, Intelligent, Active, Trainable, Strong\",\"reference_image_id\":\"rJa29l9E7\",\"image\":{\"id\":\"rJa29l9E7\",\"width\":824,\"height\":640,\"url\":\"https://cdn2.thedogapi.com/images/rJa29l9E7.jpg\"}},{\"weight\":{\"imperial\":\"17 - 23\",\"metric\":\"8 - 10\"},\"height\":{\"imperial\":\"13.5 - 16.5\",\"metric\":\"34 - 42\"},\"id\":222,\"name\":\"Shiba Inu\",\"bred_for\":\"Hunting in the mountains of Japan, Alert Watchdog\",\"breed_group\":\"Non-Sporting\",\"life_span\":\"12 - 16 years\",\"temperament\":\"Charming, Fearless, Keen, Alert, Confident, Faithful\",\"reference_image_id\":\"Zn3IjPX3f\",\"image\":{\"id\":\"Zn3IjPX3f\",\"width\":1080,\"height\":1080,\"url\":\"https://cdn2.thedogapi.com/images/Zn3IjPX3f.jpg\"}},{\"weight\":{\"imperial\":\"9 - 16\",\"metric\":\"4 - 7\"},\"height\":{\"imperial\":\"8 - 11\",\"metric\":\"20 - 28\"},\"id\":223,\"name\":\"Shih Tzu\",\"bred_for\":\"Lapdog\",\"breed_group\":\"Toy\",\"life_span\":\"10 - 18 years\",\"temperament\":\"Clever, Spunky, Outgoing, Friendly, Affectionate, Lively, Alert, Loyal, Independent, Playful, Gentle, Intelligent, Happy, Active, Courageous\",\"reference_image_id\":\"BkrJjgcV7\",\"image\":{\"id\":\"BkrJjgcV7\",\"width\":800,\"height\":600,\"url\":\"https://cdn2.thedogapi.com/images/BkrJjgcV7.jpg\"}},{\"weight\":{\"imperial\":\"120 - 140\",\"metric\":\"54 - 64\"},\"height\":{\"imperial\":\"26 - 30\",\"metric\":\"66 - 76\"},\"id\":225,\"name\":\"Shiloh Shepherd\",\"bred_for\":\"Swimming, Carrying backpacks, Pulling carts or sleds\",\"life_span\":\"9 – 14 years\",\"temperament\":\"Outgoing, Loyal, Companionable, Gentle, Loving, Trainable\",\"reference_image_id\":\"SJJxjecEX\",\"image\":{\"id\":\"SJJxjecEX\",\"width\":1005,\"height\":803,\"url\":\"https://cdn2.thedogapi.com/images/SJJxjecEX.jpg\"}},{\"weight\":{\"imperial\":\"35 - 60\",\"metric\":\"16 - 27\"},\"height\":{\"imperial\":\"20 - 23.5\",\"metric\":\"51 - 60\"},\"id\":226,\"name\":\"Siberian Husky\",\"bred_for\":\"Sled pulling\",\"breed_group\":\"Working\",\"life_span\":\"12 years\",\"temperament\":\"Outgoing, Friendly, Alert, Gentle, Intelligent\",\"reference_image_id\":\"S17ZilqNm\",\"image\":{\"id\":\"S17ZilqNm\",\"width\":1920,\"height\":1280,\"url\":\"https://cdn2.thedogapi.com/images/S17ZilqNm.jpg\"}},{\"weight\":{\"imperial\":\"8 - 10\",\"metric\":\"4 - 5\"},\"height\":{\"imperial\":\"9 - 10\",\"metric\":\"23 - 25\"},\"id\":228,\"name\":\"Silky Terrier\",\"bred_for\":\"Small vermin hunting, companionship\",\"breed_group\":\"Toy\",\"life_span\":\"12 - 15 years\",\"temperament\":\"Friendly, Responsive, Inquisitive, Alert, Quick, Joyful\",\"reference_image_id\":\"ByzGsl5Nm\",\"image\":{\"id\":\"ByzGsl5Nm\",\"width\":1599,\"height\":1142,\"url\":\"https://cdn2.thedogapi.com/images/ByzGsl5Nm.jpg\"}},{\"weight\":{\"imperial\":\"up - 18\",\"metric\":\"NaN - 8\"},\"height\":{\"imperial\":\"15.5\",\"metric\":\"39\"},\"id\":232,\"name\":\"Smooth Fox Terrier\",\"bred_for\":\"Fox bolting\",\"breed_group\":\"Terrier\",\"life_span\":\"12 - 14 years\",\"temperament\":\"Fearless, Affectionate, Alert, Playful, Intelligent, Active\",\"reference_image_id\":\"Syszjx9Em\",\"image\":{\"id\":\"Syszjx9Em\",\"width\":1600,\"height\":1031,\"url\":\"https://cdn2.thedogapi.com/images/Syszjx9Em.jpg\"}},{\"weight\":{\"imperial\":\"30 - 40\",\"metric\":\"14 - 18\"},\"height\":{\"imperial\":\"16 - 18\",\"metric\":\"41 - 46\"},\"id\":233,\"name\":\"Soft Coated Wheaten Terrier\",\"bred_for\":\"Vermin hunting, guarding, all-around farm helper\",\"breed_group\":\"Terrier\",\"life_span\":\"12 - 15 years\",\"temperament\":\"Affectionate, Spirited, Energetic, Playful, Intelligent, Faithful\",\"reference_image_id\":\"HJHmix5NQ\",\"image\":{\"id\":\"HJHmix5NQ\",\"width\":1200,\"height\":800,\"url\":\"https://cdn2.thedogapi.com/images/HJHmix5NQ.jpg\"}},{\"weight\":{\"imperial\":\"30 - 50\",\"metric\":\"14 - 23\"},\"height\":{\"imperial\":\"16 - 20\",\"metric\":\"41 - 51\"},\"id\":235,\"name\":\"Spanish Water Dog\",\"bred_for\":\"Herding flocks of sheep and goats from one pasture to another\",\"breed_group\":\"Sporting\",\"life_span\":\"12 - 15 years\",\"temperament\":\"Trainable, Diligent, Affectionate, Loyal, Athletic, Intelligent\",\"reference_image_id\":\"HJf4jl9VX\",\"image\":{\"id\":\"HJf4jl9VX\",\"width\":1200,\"height\":922,\"url\":\"https://cdn2.thedogapi.com/images/HJf4jl9VX.jpg\"}},{\"weight\":{\"imperial\":\"61 - 85\",\"metric\":\"28 - 39\"},\"height\":{\"imperial\":\"22.5 - 27.5\",\"metric\":\"57 - 70\"},\"id\":236,\"name\":\"Spinone Italiano\",\"breed_group\":\"Sporting\",\"life_span\":\"10 - 12 years\",\"temperament\":\"Docile, Friendly, Affectionate, Loyal, Patient, Gentle\",\"reference_image_id\":\"rk5Eoe5Nm\",\"image\":{\"id\":\"rk5Eoe5Nm\",\"width\":1030,\"height\":772,\"url\":\"https://cdn2.thedogapi.com/images/rk5Eoe5Nm.jpg\"}},{\"weight\":{\"imperial\":\"24 - 38\",\"metric\":\"11 - 17\"},\"height\":{\"imperial\":\"14 - 16\",\"metric\":\"36 - 41\"},\"id\":238,\"name\":\"Staffordshire Bull Terrier\",\"bred_for\":\"\",\"breed_group\":\"Terrier\",\"life_span\":\"12 - 14 years\",\"temperament\":\"Reliable, Fearless, Bold, Affectionate, Loyal, Intelligent, Courageous\",\"reference_image_id\":\"H1zSie9V7\",\"image\":{\"id\":\"H1zSie9V7\",\"width\":1280,\"height\":852,\"url\":\"https://cdn2.thedogapi.com/images/H1zSie9V7.jpg\"}},{\"weight\":{\"imperial\":\"30 - 50\",\"metric\":\"14 - 23\"},\"height\":{\"imperial\":\"17.5 - 19.5\",\"metric\":\"44 - 50\"},\"id\":239,\"name\":\"Standard Schnauzer\",\"bred_for\":\"Ratting, guarding\",\"breed_group\":\"Working\",\"life_span\":\"13 - 15 years\",\"temperament\":\"Trainable, Good-natured, Devoted, Lively, Playful, Intelligent\",\"reference_image_id\":\"tmzeu6ID_\",\"image\":{\"id\":\"tmzeu6ID_\",\"width\":650,\"height\":585,\"url\":\"https://cdn2.thedogapi.com/images/tmzeu6ID_.jpg\"}},{\"weight\":{\"imperial\":\"20 - 30\",\"metric\":\"9 - 14\"},\"height\":{\"imperial\":\"11.5 - 13.5\",\"metric\":\"29 - 34\"},\"id\":242,\"name\":\"Swedish Vallhund\",\"breed_group\":\"Herding\",\"life_span\":\"12 - 14 years\",\"temperament\":\"Fearless, Friendly, Energetic, Alert, Intelligent, Watchful\",\"reference_image_id\":\"HJ-Dix94Q\",\"image\":{\"id\":\"HJ-Dix94Q\",\"width\":1280,\"height\":851,\"url\":\"https://cdn2.thedogapi.com/images/HJ-Dix94Q.jpg\"}},{\"weight\":{\"imperial\":\"35 - 55\",\"metric\":\"16 - 25\"},\"height\":{\"imperial\":\"20 - 24\",\"metric\":\"51 - 61\"},\"id\":243,\"name\":\"Thai Ridgeback\",\"breed_group\":\"Hound\",\"life_span\":\"10 - 12 years\",\"temperament\":\"Protective, Loyal, Independent, Intelligent, Loving, Familial\",\"reference_image_id\":\"zv89hR-O8\",\"image\":{\"id\":\"zv89hR-O8\",\"width\":1080,\"height\":720,\"url\":\"https://cdn2.thedogapi.com/images/zv89hR-O8.jpg\"}},{\"weight\":{\"imperial\":\"85 - 140\",\"metric\":\"39 - 64\"},\"height\":{\"imperial\":\"24 - 26\",\"metric\":\"61 - 66\"},\"id\":244,\"name\":\"Tibetan Mastiff\",\"breed_group\":\"Working\",\"life_span\":\"10 - 14 years\",\"temperament\":\"Strong Willed, Tenacious, Aloof, Stubborn, Intelligent, Protective\",\"reference_image_id\":\"SkM9sec47\",\"image\":{\"id\":\"SkM9sec47\",\"width\":1600,\"height\":1375,\"url\":\"https://cdn2.thedogapi.com/images/SkM9sec47.jpg\"}},{\"weight\":{\"imperial\":\"9 - 15\",\"metric\":\"4 - 7\"},\"height\":{\"imperial\":\"10\",\"metric\":\"25\"},\"id\":245,\"name\":\"Tibetan Spaniel\",\"breed_group\":\"Non-Sporting\",\"life_span\":\"12 - 15 years\",\"temperament\":\"Willful, Aloof, Assertive, Independent, Playful, Intelligent, Happy\",\"reference_image_id\":\"Hyjcol947\",\"image\":{\"id\":\"Hyjcol947\",\"width\":1023,\"height\":825,\"url\":\"https://cdn2.thedogapi.com/images/Hyjcol947.jpg\"}},{\"weight\":{\"imperial\":\"20 - 24\",\"metric\":\"9 - 11\"},\"height\":{\"imperial\":\"14 - 17\",\"metric\":\"36 - 43\"},\"id\":246,\"name\":\"Tibetan Terrier\",\"bred_for\":\"Good luck charms, mascots, watchdogs, herding dogs, and companions\",\"breed_group\":\"Non-Sporting\",\"life_span\":\"12 - 15 years\",\"temperament\":\"Affectionate, Energetic, Amiable, Reserved, Gentle, Sensitive\",\"reference_image_id\":\"6f5n_42mB\",\"image\":{\"id\":\"6f5n_42mB\",\"width\":981,\"height\":1226,\"url\":\"https://cdn2.thedogapi.com/images/6f5n_42mB.jpg\"}},{\"weight\":{\"imperial\":\"4 - 9\",\"metric\":\"2 - 4\"},\"height\":{\"imperial\":\"8 - 11\",\"metric\":\"20 - 28\"},\"id\":248,\"name\":\"Toy Fox Terrier\",\"breed_group\":\"Toy\",\"life_span\":\"12 - 15 years\",\"temperament\":\"Friendly, Spirited, Alert, Loyal, Playful, Intelligent\",\"reference_image_id\":\"B17ase9V7\",\"image\":{\"id\":\"B17ase9V7\",\"width\":1200,\"height\":1024,\"url\":\"https://cdn2.thedogapi.com/images/B17ase9V7.jpg\"}},{\"weight\":{\"imperial\":\"45 - 80\",\"metric\":\"20 - 36\"},\"height\":{\"imperial\":\"20 - 27\",\"metric\":\"51 - 69\"},\"id\":250,\"name\":\"Treeing Walker Coonhound\",\"breed_group\":\"Hound\",\"life_span\":\"10 - 13 years\",\"temperament\":\"Clever, Affectionate, Confident, Intelligent, Loving, Trainable\",\"reference_image_id\":\"SkRpsgc47\",\"image\":{\"id\":\"SkRpsgc47\",\"width\":1920,\"height\":1080,\"url\":\"https://cdn2.thedogapi.com/images/SkRpsgc47.jpg\"}},{\"weight\":{\"imperial\":\"50 - 65\",\"metric\":\"23 - 29\"},\"height\":{\"imperial\":\"21 - 24\",\"metric\":\"53 - 61\"},\"id\":251,\"name\":\"Vizsla\",\"bred_for\":\"Pointing and trailing\",\"breed_group\":\"Sporting\",\"life_span\":\"10 - 14 years\",\"temperament\":\"Affectionate, Energetic, Loyal, Gentle, Quiet\",\"reference_image_id\":\"r1o0jx9Em\",\"image\":{\"id\":\"r1o0jx9Em\",\"width\":2269,\"height\":1276,\"url\":\"https://cdn2.thedogapi.com/images/r1o0jx9Em.jpg\"}},{\"weight\":{\"imperial\":\"55 - 90\",\"metric\":\"25 - 41\"},\"height\":{\"imperial\":\"23 - 27\",\"metric\":\"58 - 69\"},\"id\":253,\"name\":\"Weimaraner\",\"bred_for\":\"Large game trailing and versatile gundog\",\"breed_group\":\"Sporting\",\"life_span\":\"12 - 15 years\",\"temperament\":\"Steady, Aloof, Stubborn, Energetic, Alert, Intelligent, Powerful, Fast\",\"reference_image_id\":\"SyU12l9V7\",\"image\":{\"id\":\"SyU12l9V7\",\"width\":901,\"height\":954,\"url\":\"https://cdn2.thedogapi.com/images/SyU12l9V7.jpg\"}},{\"weight\":{\"imperial\":\"35 - 55\",\"metric\":\"16 - 25\"},\"height\":{\"imperial\":\"17 - 19\",\"metric\":\"43 - 48\"},\"id\":254,\"name\":\"Welsh Springer Spaniel\",\"bred_for\":\"Flushing and retrieving birds\",\"breed_group\":\"Sporting\",\"life_span\":\"12 - 15 years\",\"temperament\":\"Stubborn, Friendly, Affectionate, Loyal, Playful, Active\",\"reference_image_id\":\"BJ1gnx5Vm\",\"image\":{\"id\":\"BJ1gnx5Vm\",\"width\":1331,\"height\":944,\"url\":\"https://cdn2.thedogapi.com/images/BJ1gnx5Vm.jpg\"}},{\"weight\":{\"imperial\":\"15 - 22\",\"metric\":\"7 - 10\"},\"height\":{\"imperial\":\"10 - 11\",\"metric\":\"25 - 28\"},\"id\":256,\"name\":\"West Highland White Terrier\",\"bred_for\":\"Fox, badger, vermin hunting\",\"breed_group\":\"Terrier\",\"life_span\":\"15 - 20 years\",\"temperament\":\"Hardy, Friendly, Alert, Independent, Gay, Active, Courageous\",\"reference_image_id\":\"Bkdx2g5Em\",\"image\":{\"id\":\"Bkdx2g5Em\",\"width\":1065,\"height\":1032,\"url\":\"https://cdn2.thedogapi.com/images/Bkdx2g5Em.jpg\"}},{\"weight\":{\"imperial\":\"25 - 35\",\"metric\":\"11 - 16\"},\"height\":{\"imperial\":\"18 - 22\",\"metric\":\"46 - 56\"},\"id\":257,\"name\":\"Whippet\",\"bred_for\":\"Coursing, racing\",\"breed_group\":\"Hound\",\"life_span\":\"12 - 15 years\",\"temperament\":\"Friendly, Affectionate, Lively, Gentle, Intelligent, Quiet\",\"reference_image_id\":\"Hyv-ne94m\",\"image\":{\"id\":\"Hyv-ne94m\",\"width\":1600,\"height\":1071,\"url\":\"https://cdn2.thedogapi.com/images/Hyv-ne94m.jpg\"}},{\"weight\":{\"imperial\":\"60 - 85\",\"metric\":\"27 - 39\"},\"height\":{\"imperial\":\"22 - 25\",\"metric\":\"56 - 64\"},\"id\":258,\"name\":\"White Shepherd\",\"life_span\":\"12 – 14 years\",\"temperament\":\"Self-confidence, Aloof, Fearless, Alert, Companionable, Eager\",\"reference_image_id\":\"r14M3e9E7\",\"image\":{\"id\":\"r14M3e9E7\",\"width\":1200,\"height\":800,\"url\":\"https://cdn2.thedogapi.com/images/r14M3e9E7.jpg\"}},{\"weight\":{\"imperial\":\"15 - 19\",\"metric\":\"7 - 9\"},\"height\":{\"imperial\":\"13 - 16\",\"metric\":\"33 - 41\"},\"id\":259,\"name\":\"Wire Fox Terrier\",\"bred_for\":\"Vermin hunting, fox bolting\",\"life_span\":\"13 – 14 years\",\"history\":\" England\",\"temperament\":\"Fearless, Friendly, Bold, Keen, Alert, Quick\",\"reference_image_id\":\"SJ6f2g9EQ\",\"image\":{\"id\":\"SJ6f2g9EQ\",\"width\":1000,\"height\":795,\"url\":\"https://cdn2.thedogapi.com/images/SJ6f2g9EQ.jpg\"}},{\"weight\":{\"imperial\":\"45 - 70\",\"metric\":\"20 - 32\"},\"height\":{\"imperial\":\"20 - 24\",\"metric\":\"51 - 61\"},\"id\":260,\"name\":\"Wirehaired Pointing Griffon\",\"bred_for\":\"Gundog, \\\\\"swamp-tromping\\\\\", Flushing, pointing, and retrieving water fowl & game birds\",\"breed_group\":\"Sporting\",\"life_span\":\"12 - 14 years\",\"temperament\":\"Loyal, Gentle, Vigilant, Trainable, Proud\",\"reference_image_id\":\"Bkam2l9Vm\",\"image\":{\"id\":\"Bkam2l9Vm\",\"width\":2328,\"height\":1604,\"url\":\"https://cdn2.thedogapi.com/images/Bkam2l9Vm.jpg\"}},{\"weight\":{\"imperial\":\"45 - 65\",\"metric\":\"20 - 29\"},\"height\":{\"imperial\":\"21.5 - 25\",\"metric\":\"55 - 64\"},\"id\":261,\"name\":\"Wirehaired Vizsla\",\"breed_group\":\"Sporting\",\"life_span\":\"12 - 14 years\",\"reference_image_id\":\"r1I4hl5Em\",\"image\":{\"id\":\"r1I4hl5Em\",\"width\":1024,\"height\":770,\"url\":\"https://cdn2.thedogapi.com/images/r1I4hl5Em.jpg\"}},{\"weight\":{\"imperial\":\"9 - 31\",\"metric\":\"4 - 14\"},\"height\":{\"imperial\":\"10 - 23\",\"metric\":\"25 - 58\"},\"id\":262,\"name\":\"Xoloitzcuintli\",\"breed_group\":\"Non-Sporting\",\"life_span\":\"12 - 14 years\",\"temperament\":\"Cheerful, Alert, Companionable, Intelligent, Protective, Calm\",\"reference_image_id\":\"HkNS3gqEm\",\"image\":{\"id\":\"HkNS3gqEm\",\"width\":1500,\"height\":1350,\"url\":\"https://cdn2.thedogapi.com/images/HkNS3gqEm.jpg\"}},{\"weight\":{\"imperial\":\"4 - 7\",\"metric\":\"2 - 3\"},\"height\":{\"imperial\":\"8 - 9\",\"metric\":\"20 - 23\"},\"id\":264,\"name\":\"Yorkshire Terrier\",\"bred_for\":\"Small vermin hunting\",\"breed_group\":\"Toy\",\"life_span\":\"12 - 16 years\",\"temperament\":\"Bold, Independent, Confident, Intelligent, Courageous\",\"reference_image_id\":\"B12BnxcVQ\",\"image\":{\"id\":\"B12BnxcVQ\",\"width\":1024,\"height\":683,\"url\":\"https://cdn2.thedogapi.com/images/B12BnxcVQ.jpg\"}}]'"
      ]
     },
     "execution_count": 8,
     "metadata": {},
     "output_type": "execute_result"
    }
   ],
   "source": [
    "response = requests.get(\"https://api.thedogapi.com/v1/breeds\")\n",
    "response.text"
   ]
  },
  {
   "cell_type": "code",
   "execution_count": 9,
   "metadata": {},
   "outputs": [
    {
     "data": {
      "text/html": [
       "<div>\n",
       "<style scoped>\n",
       "    .dataframe tbody tr th:only-of-type {\n",
       "        vertical-align: middle;\n",
       "    }\n",
       "\n",
       "    .dataframe tbody tr th {\n",
       "        vertical-align: top;\n",
       "    }\n",
       "\n",
       "    .dataframe thead th {\n",
       "        text-align: right;\n",
       "    }\n",
       "</style>\n",
       "<table border=\"1\" class=\"dataframe\">\n",
       "  <thead>\n",
       "    <tr style=\"text-align: right;\">\n",
       "      <th></th>\n",
       "      <th>weight</th>\n",
       "      <th>height</th>\n",
       "      <th>id</th>\n",
       "      <th>name</th>\n",
       "      <th>bred_for</th>\n",
       "      <th>breed_group</th>\n",
       "      <th>life_span</th>\n",
       "      <th>temperament</th>\n",
       "      <th>origin</th>\n",
       "      <th>reference_image_id</th>\n",
       "      <th>image</th>\n",
       "      <th>country_code</th>\n",
       "      <th>description</th>\n",
       "      <th>history</th>\n",
       "    </tr>\n",
       "  </thead>\n",
       "  <tbody>\n",
       "    <tr>\n",
       "      <th>0</th>\n",
       "      <td>{'imperial': '6 - 13', 'metric': '3 - 6'}</td>\n",
       "      <td>{'imperial': '9 - 11.5', 'metric': '23 - 29'}</td>\n",
       "      <td>1</td>\n",
       "      <td>Affenpinscher</td>\n",
       "      <td>Small rodent hunting, lapdog</td>\n",
       "      <td>Toy</td>\n",
       "      <td>10 - 12 years</td>\n",
       "      <td>Stubborn, Curious, Playful, Adventurous, Activ...</td>\n",
       "      <td>Germany, France</td>\n",
       "      <td>BJa4kxc4X</td>\n",
       "      <td>{'id': 'BJa4kxc4X', 'width': 1600, 'height': 1...</td>\n",
       "      <td>NaN</td>\n",
       "      <td>NaN</td>\n",
       "      <td>NaN</td>\n",
       "    </tr>\n",
       "    <tr>\n",
       "      <th>1</th>\n",
       "      <td>{'imperial': '50 - 60', 'metric': '23 - 27'}</td>\n",
       "      <td>{'imperial': '25 - 27', 'metric': '64 - 69'}</td>\n",
       "      <td>2</td>\n",
       "      <td>Afghan Hound</td>\n",
       "      <td>Coursing and hunting</td>\n",
       "      <td>Hound</td>\n",
       "      <td>10 - 13 years</td>\n",
       "      <td>Aloof, Clownish, Dignified, Independent, Happy</td>\n",
       "      <td>Afghanistan, Iran, Pakistan</td>\n",
       "      <td>hMyT4CDXR</td>\n",
       "      <td>{'id': 'hMyT4CDXR', 'width': 606, 'height': 38...</td>\n",
       "      <td>AG</td>\n",
       "      <td>NaN</td>\n",
       "      <td>NaN</td>\n",
       "    </tr>\n",
       "    <tr>\n",
       "      <th>2</th>\n",
       "      <td>{'imperial': '44 - 66', 'metric': '20 - 30'}</td>\n",
       "      <td>{'imperial': '30', 'metric': '76'}</td>\n",
       "      <td>3</td>\n",
       "      <td>African Hunting Dog</td>\n",
       "      <td>A wild pack animal</td>\n",
       "      <td>NaN</td>\n",
       "      <td>11 years</td>\n",
       "      <td>Wild, Hardworking, Dutiful</td>\n",
       "      <td></td>\n",
       "      <td>rkiByec47</td>\n",
       "      <td>{'id': 'rkiByec47', 'width': 500, 'height': 33...</td>\n",
       "      <td>NaN</td>\n",
       "      <td>NaN</td>\n",
       "      <td>NaN</td>\n",
       "    </tr>\n",
       "    <tr>\n",
       "      <th>3</th>\n",
       "      <td>{'imperial': '40 - 65', 'metric': '18 - 29'}</td>\n",
       "      <td>{'imperial': '21 - 23', 'metric': '53 - 58'}</td>\n",
       "      <td>4</td>\n",
       "      <td>Airedale Terrier</td>\n",
       "      <td>Badger, otter hunting</td>\n",
       "      <td>Terrier</td>\n",
       "      <td>10 - 13 years</td>\n",
       "      <td>Outgoing, Friendly, Alert, Confident, Intellig...</td>\n",
       "      <td>United Kingdom, England</td>\n",
       "      <td>1-7cgoZSh</td>\n",
       "      <td>{'id': '1-7cgoZSh', 'width': 645, 'height': 43...</td>\n",
       "      <td>NaN</td>\n",
       "      <td>NaN</td>\n",
       "      <td>NaN</td>\n",
       "    </tr>\n",
       "    <tr>\n",
       "      <th>4</th>\n",
       "      <td>{'imperial': '90 - 120', 'metric': '41 - 54'}</td>\n",
       "      <td>{'imperial': '28 - 34', 'metric': '71 - 86'}</td>\n",
       "      <td>5</td>\n",
       "      <td>Akbash Dog</td>\n",
       "      <td>Sheep guarding</td>\n",
       "      <td>Working</td>\n",
       "      <td>10 - 12 years</td>\n",
       "      <td>Loyal, Independent, Intelligent, Brave</td>\n",
       "      <td></td>\n",
       "      <td>26pHT3Qk7</td>\n",
       "      <td>{'id': '26pHT3Qk7', 'width': 600, 'height': 47...</td>\n",
       "      <td>NaN</td>\n",
       "      <td>NaN</td>\n",
       "      <td>NaN</td>\n",
       "    </tr>\n",
       "    <tr>\n",
       "      <th>...</th>\n",
       "      <td>...</td>\n",
       "      <td>...</td>\n",
       "      <td>...</td>\n",
       "      <td>...</td>\n",
       "      <td>...</td>\n",
       "      <td>...</td>\n",
       "      <td>...</td>\n",
       "      <td>...</td>\n",
       "      <td>...</td>\n",
       "      <td>...</td>\n",
       "      <td>...</td>\n",
       "      <td>...</td>\n",
       "      <td>...</td>\n",
       "      <td>...</td>\n",
       "    </tr>\n",
       "    <tr>\n",
       "      <th>167</th>\n",
       "      <td>{'imperial': '15 - 19', 'metric': '7 - 9'}</td>\n",
       "      <td>{'imperial': '13 - 16', 'metric': '33 - 41'}</td>\n",
       "      <td>259</td>\n",
       "      <td>Wire Fox Terrier</td>\n",
       "      <td>Vermin hunting, fox bolting</td>\n",
       "      <td>NaN</td>\n",
       "      <td>13 – 14 years</td>\n",
       "      <td>Fearless, Friendly, Bold, Keen, Alert, Quick</td>\n",
       "      <td>NaN</td>\n",
       "      <td>SJ6f2g9EQ</td>\n",
       "      <td>{'id': 'SJ6f2g9EQ', 'width': 1000, 'height': 7...</td>\n",
       "      <td>NaN</td>\n",
       "      <td>NaN</td>\n",
       "      <td>England</td>\n",
       "    </tr>\n",
       "    <tr>\n",
       "      <th>168</th>\n",
       "      <td>{'imperial': '45 - 70', 'metric': '20 - 32'}</td>\n",
       "      <td>{'imperial': '20 - 24', 'metric': '51 - 61'}</td>\n",
       "      <td>260</td>\n",
       "      <td>Wirehaired Pointing Griffon</td>\n",
       "      <td>Gundog, \"swamp-tromping\", Flushing, pointing, ...</td>\n",
       "      <td>Sporting</td>\n",
       "      <td>12 - 14 years</td>\n",
       "      <td>Loyal, Gentle, Vigilant, Trainable, Proud</td>\n",
       "      <td>NaN</td>\n",
       "      <td>Bkam2l9Vm</td>\n",
       "      <td>{'id': 'Bkam2l9Vm', 'width': 2328, 'height': 1...</td>\n",
       "      <td>NaN</td>\n",
       "      <td>NaN</td>\n",
       "      <td>NaN</td>\n",
       "    </tr>\n",
       "    <tr>\n",
       "      <th>169</th>\n",
       "      <td>{'imperial': '45 - 65', 'metric': '20 - 29'}</td>\n",
       "      <td>{'imperial': '21.5 - 25', 'metric': '55 - 64'}</td>\n",
       "      <td>261</td>\n",
       "      <td>Wirehaired Vizsla</td>\n",
       "      <td>NaN</td>\n",
       "      <td>Sporting</td>\n",
       "      <td>12 - 14 years</td>\n",
       "      <td>NaN</td>\n",
       "      <td>NaN</td>\n",
       "      <td>r1I4hl5Em</td>\n",
       "      <td>{'id': 'r1I4hl5Em', 'width': 1024, 'height': 7...</td>\n",
       "      <td>NaN</td>\n",
       "      <td>NaN</td>\n",
       "      <td>NaN</td>\n",
       "    </tr>\n",
       "    <tr>\n",
       "      <th>170</th>\n",
       "      <td>{'imperial': '9 - 31', 'metric': '4 - 14'}</td>\n",
       "      <td>{'imperial': '10 - 23', 'metric': '25 - 58'}</td>\n",
       "      <td>262</td>\n",
       "      <td>Xoloitzcuintli</td>\n",
       "      <td>NaN</td>\n",
       "      <td>Non-Sporting</td>\n",
       "      <td>12 - 14 years</td>\n",
       "      <td>Cheerful, Alert, Companionable, Intelligent, P...</td>\n",
       "      <td>NaN</td>\n",
       "      <td>HkNS3gqEm</td>\n",
       "      <td>{'id': 'HkNS3gqEm', 'width': 1500, 'height': 1...</td>\n",
       "      <td>NaN</td>\n",
       "      <td>NaN</td>\n",
       "      <td>NaN</td>\n",
       "    </tr>\n",
       "    <tr>\n",
       "      <th>171</th>\n",
       "      <td>{'imperial': '4 - 7', 'metric': '2 - 3'}</td>\n",
       "      <td>{'imperial': '8 - 9', 'metric': '20 - 23'}</td>\n",
       "      <td>264</td>\n",
       "      <td>Yorkshire Terrier</td>\n",
       "      <td>Small vermin hunting</td>\n",
       "      <td>Toy</td>\n",
       "      <td>12 - 16 years</td>\n",
       "      <td>Bold, Independent, Confident, Intelligent, Cou...</td>\n",
       "      <td>NaN</td>\n",
       "      <td>B12BnxcVQ</td>\n",
       "      <td>{'id': 'B12BnxcVQ', 'width': 1024, 'height': 6...</td>\n",
       "      <td>NaN</td>\n",
       "      <td>NaN</td>\n",
       "      <td>NaN</td>\n",
       "    </tr>\n",
       "  </tbody>\n",
       "</table>\n",
       "<p>172 rows × 14 columns</p>\n",
       "</div>"
      ],
      "text/plain": [
       "                                            weight  \\\n",
       "0        {'imperial': '6 - 13', 'metric': '3 - 6'}   \n",
       "1     {'imperial': '50 - 60', 'metric': '23 - 27'}   \n",
       "2     {'imperial': '44 - 66', 'metric': '20 - 30'}   \n",
       "3     {'imperial': '40 - 65', 'metric': '18 - 29'}   \n",
       "4    {'imperial': '90 - 120', 'metric': '41 - 54'}   \n",
       "..                                             ...   \n",
       "167     {'imperial': '15 - 19', 'metric': '7 - 9'}   \n",
       "168   {'imperial': '45 - 70', 'metric': '20 - 32'}   \n",
       "169   {'imperial': '45 - 65', 'metric': '20 - 29'}   \n",
       "170     {'imperial': '9 - 31', 'metric': '4 - 14'}   \n",
       "171       {'imperial': '4 - 7', 'metric': '2 - 3'}   \n",
       "\n",
       "                                             height   id  \\\n",
       "0     {'imperial': '9 - 11.5', 'metric': '23 - 29'}    1   \n",
       "1      {'imperial': '25 - 27', 'metric': '64 - 69'}    2   \n",
       "2                {'imperial': '30', 'metric': '76'}    3   \n",
       "3      {'imperial': '21 - 23', 'metric': '53 - 58'}    4   \n",
       "4      {'imperial': '28 - 34', 'metric': '71 - 86'}    5   \n",
       "..                                              ...  ...   \n",
       "167    {'imperial': '13 - 16', 'metric': '33 - 41'}  259   \n",
       "168    {'imperial': '20 - 24', 'metric': '51 - 61'}  260   \n",
       "169  {'imperial': '21.5 - 25', 'metric': '55 - 64'}  261   \n",
       "170    {'imperial': '10 - 23', 'metric': '25 - 58'}  262   \n",
       "171      {'imperial': '8 - 9', 'metric': '20 - 23'}  264   \n",
       "\n",
       "                            name  \\\n",
       "0                  Affenpinscher   \n",
       "1                   Afghan Hound   \n",
       "2            African Hunting Dog   \n",
       "3               Airedale Terrier   \n",
       "4                     Akbash Dog   \n",
       "..                           ...   \n",
       "167             Wire Fox Terrier   \n",
       "168  Wirehaired Pointing Griffon   \n",
       "169            Wirehaired Vizsla   \n",
       "170               Xoloitzcuintli   \n",
       "171            Yorkshire Terrier   \n",
       "\n",
       "                                              bred_for   breed_group  \\\n",
       "0                         Small rodent hunting, lapdog           Toy   \n",
       "1                                 Coursing and hunting         Hound   \n",
       "2                                   A wild pack animal           NaN   \n",
       "3                                Badger, otter hunting       Terrier   \n",
       "4                                       Sheep guarding       Working   \n",
       "..                                                 ...           ...   \n",
       "167                        Vermin hunting, fox bolting           NaN   \n",
       "168  Gundog, \"swamp-tromping\", Flushing, pointing, ...      Sporting   \n",
       "169                                                NaN      Sporting   \n",
       "170                                                NaN  Non-Sporting   \n",
       "171                               Small vermin hunting           Toy   \n",
       "\n",
       "         life_span                                        temperament  \\\n",
       "0    10 - 12 years  Stubborn, Curious, Playful, Adventurous, Activ...   \n",
       "1    10 - 13 years     Aloof, Clownish, Dignified, Independent, Happy   \n",
       "2         11 years                         Wild, Hardworking, Dutiful   \n",
       "3    10 - 13 years  Outgoing, Friendly, Alert, Confident, Intellig...   \n",
       "4    10 - 12 years             Loyal, Independent, Intelligent, Brave   \n",
       "..             ...                                                ...   \n",
       "167  13 – 14 years       Fearless, Friendly, Bold, Keen, Alert, Quick   \n",
       "168  12 - 14 years          Loyal, Gentle, Vigilant, Trainable, Proud   \n",
       "169  12 - 14 years                                                NaN   \n",
       "170  12 - 14 years  Cheerful, Alert, Companionable, Intelligent, P...   \n",
       "171  12 - 16 years  Bold, Independent, Confident, Intelligent, Cou...   \n",
       "\n",
       "                          origin reference_image_id  \\\n",
       "0                Germany, France          BJa4kxc4X   \n",
       "1    Afghanistan, Iran, Pakistan          hMyT4CDXR   \n",
       "2                                         rkiByec47   \n",
       "3        United Kingdom, England          1-7cgoZSh   \n",
       "4                                         26pHT3Qk7   \n",
       "..                           ...                ...   \n",
       "167                          NaN          SJ6f2g9EQ   \n",
       "168                          NaN          Bkam2l9Vm   \n",
       "169                          NaN          r1I4hl5Em   \n",
       "170                          NaN          HkNS3gqEm   \n",
       "171                          NaN          B12BnxcVQ   \n",
       "\n",
       "                                                 image country_code  \\\n",
       "0    {'id': 'BJa4kxc4X', 'width': 1600, 'height': 1...          NaN   \n",
       "1    {'id': 'hMyT4CDXR', 'width': 606, 'height': 38...           AG   \n",
       "2    {'id': 'rkiByec47', 'width': 500, 'height': 33...          NaN   \n",
       "3    {'id': '1-7cgoZSh', 'width': 645, 'height': 43...          NaN   \n",
       "4    {'id': '26pHT3Qk7', 'width': 600, 'height': 47...          NaN   \n",
       "..                                                 ...          ...   \n",
       "167  {'id': 'SJ6f2g9EQ', 'width': 1000, 'height': 7...          NaN   \n",
       "168  {'id': 'Bkam2l9Vm', 'width': 2328, 'height': 1...          NaN   \n",
       "169  {'id': 'r1I4hl5Em', 'width': 1024, 'height': 7...          NaN   \n",
       "170  {'id': 'HkNS3gqEm', 'width': 1500, 'height': 1...          NaN   \n",
       "171  {'id': 'B12BnxcVQ', 'width': 1024, 'height': 6...          NaN   \n",
       "\n",
       "    description   history  \n",
       "0           NaN       NaN  \n",
       "1           NaN       NaN  \n",
       "2           NaN       NaN  \n",
       "3           NaN       NaN  \n",
       "4           NaN       NaN  \n",
       "..          ...       ...  \n",
       "167         NaN   England  \n",
       "168         NaN       NaN  \n",
       "169         NaN       NaN  \n",
       "170         NaN       NaN  \n",
       "171         NaN       NaN  \n",
       "\n",
       "[172 rows x 14 columns]"
      ]
     },
     "execution_count": 9,
     "metadata": {},
     "output_type": "execute_result"
    }
   ],
   "source": [
    "response = requests.get(\"https://api.thedogapi.com/v1/breeds\").json()\n",
    "import pandas as pd\n",
    "dogs =pd.DataFrame(response)\n",
    "dogs"
   ]
  },
  {
   "cell_type": "markdown",
   "metadata": {},
   "source": [
    "response = requests.get(\"https://api.thedogapi.com/v1/breeds\").json()\n",
    "import pandas as pd\n",
    "dogs =pd.DataFrame(response)\n",
    "res = dogs.groupby('country_code').sum()\n",
    "\n",
    "\n",
    "\n",
    "\n",
    "\n",
    "\n",
    "\n",
    "\n",
    "\n",
    "\n",
    "\n",
    "\n",
    "\n",
    "\n",
    "\n",
    "\n",
    "\n",
    "\n",
    "\n"
   ]
  },
  {
   "cell_type": "code",
   "execution_count": 10,
   "metadata": {},
   "outputs": [
    {
     "data": {
      "text/plain": [
       "<AxesSubplot:title={'center':'count of dogs'}, ylabel='id'>"
      ]
     },
     "execution_count": 10,
     "metadata": {},
     "output_type": "execute_result"
    },
    {
     "data": {
      "image/png": "[encoded data removed]",
      "text/plain": [
       "<Figure size 432x288 with 1 Axes>"
      ]
     },
     "metadata": {},
     "output_type": "display_data"
    }
   ],
   "source": [
    "import matplotlib\n",
    "\n",
    "response = requests.get(\"https://api.thedogapi.com/v1/breeds\").json()\n",
    "import pandas as pd\n",
    "dogs =pd.DataFrame(response)\n",
    "res = dogs.groupby('country_code').sum()\n",
    "res['id'].plot(kind = 'pie', title = 'count of dogs' )"
   ]
  },
  {
   "cell_type": "code",
   "execution_count": 11,
   "metadata": {},
   "outputs": [],
   "source": [
    "parameters = {\n",
    "    \"lat\": 40.71,\n",
    "    \"lon\": -74\n",
    "}"
   ]
  },
  {
   "cell_type": "code",
   "execution_count": 12,
   "metadata": {},
   "outputs": [
    {
     "name": "stdout",
     "output_type": "stream",
     "text": [
      "{\n",
      "    \"iss_position\": {\n",
      "        \"latitude\": \"-21.9565\",\n",
      "        \"longitude\": \"-26.8584\"\n",
      "    },\n",
      "    \"message\": \"success\",\n",
      "    \"timestamp\": 1621579711\n",
      "}\n"
     ]
    }
   ],
   "source": [
    "response = requests.get(\"http://api.open-notify.org/iss-now.json\", params=parameters)\n",
    "jprint(response.json())"
   ]
  },
  {
   "cell_type": "code",
   "execution_count": null,
   "metadata": {},
   "outputs": [],
   "source": []
  },
  {
   "cell_type": "code",
   "execution_count": null,
   "metadata": {},
   "outputs": [],
   "source": []
  },
  {
   "cell_type": "code",
   "execution_count": null,
   "metadata": {},
   "outputs": [],
   "source": []
  },
  {
   "cell_type": "code",
   "execution_count": null,
   "metadata": {},
   "outputs": [],
   "source": []
  },
  {
   "cell_type": "code",
   "execution_count": null,
   "metadata": {},
   "outputs": [],
   "source": []
  }
 ],
 "metadata": {
  "kernelspec": {
   "display_name": "Python 3",
   "language": "python",
   "name": "python3"
  },
  "language_info": {
   "codemirror_mode": {
    "name": "ipython",
    "version": 3
   },
   "file_extension": ".py",
   "mimetype": "text/x-python",
   "name": "python",
   "nbconvert_exporter": "python",
   "pygments_lexer": "ipython3",
   "version": "3.8.5"
  }
 },
 "nbformat": 4,
 "nbformat_minor": 2
}
