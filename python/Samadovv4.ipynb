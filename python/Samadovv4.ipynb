{
 "cells": [
  {
   "cell_type": "code",
   "execution_count": 4,
   "metadata": {},
   "outputs": [],
   "source": [
    "# import turtle\n",
    "# turtle.showturtle()\n",
    "# turtle.forward(150)\n",
    "# turtle.circle(150)\n",
    "# turtle.hideturtle()"
   ]
  },
  {
   "cell_type": "code",
   "execution_count": 7,
   "metadata": {},
   "outputs": [
    {
     "name": "stdout",
     "output_type": "stream",
     "text": [
      "rgerg ('Your name: ', 'Samadov A') ('Your adress: ', 'Solikhujaev 10') ('Telephone number: ', 992929390063) ('Spec: ', 'Prikladnaja infa')\n"
     ]
    }
   ],
   "source": [
    "# a = ('Your name: ', 'Samadov A')\n",
    "# b = ('Your adress: ', 'Solikhujaev 10')\n",
    "# c = ('Telephone number: ', +992929390063)\n",
    "# d = ('Spec: ', 'Prikladnaja infa')\n",
    "# print( 'rgerg', a, b, c, d)\n"
   ]
  },
  {
   "cell_type": "code",
   "execution_count": 1,
   "metadata": {},
   "outputs": [
    {
     "name": "stdout",
     "output_type": "stream",
     "text": [
      "Введите общий обьём продаж: 1000\n",
      "Общяя прибыль составляет:  230.0\n"
     ]
    }
   ],
   "source": [
    "# x = int(input('Введите общий обьём продаж: '))\n",
    "# y = x * 0.23\n",
    "# print('Общяя прибыль составляет: ', y)\n"
   ]
  },
  {
   "cell_type": "code",
   "execution_count": 7,
   "metadata": {},
   "outputs": [
    {
     "name": "stdout",
     "output_type": "stream",
     "text": [
      "Введите общее количество кв. м. : 1000\n",
      "Количество акров ==  0.24709661477637757\n"
     ]
    }
   ],
   "source": [
    "x = int(input('Введите общее количество кв. м. : '))\n",
    "y = x / 4047\n",
    "print('Количество акров == ', y )"
   ]
  },
  {
   "cell_type": "code",
   "execution_count": 15,
   "metadata": {},
   "outputs": [
    {
     "name": "stdout",
     "output_type": "stream",
     "text": [
      "Цена 1ого товара: 1\n",
      "Цена 2 ого товара: 2\n",
      "Цена 3 ого товара: 3\n",
      "Цена 4 ого товара: 4\n",
      "Цена 5 ого товара: 5\n",
      "1.05\n"
     ]
    }
   ],
   "source": [
    "a = int(input('Цена 1ого товара: '))\n",
    "b = int(input('Цена 2 ого товара: '))\n",
    "c = int(input('Цена 3 ого товара: '))\n",
    "d = int(input('Цена 4 ого товара: '))\n",
    "e = int(input('Цена 5 ого товара: '))\n",
    "f = (a + b + c + d + e) * 0.07\n",
    "print(f)"
   ]
  },
  {
   "cell_type": "code",
   "execution_count": 17,
   "metadata": {},
   "outputs": [
    {
     "name": "stdout",
     "output_type": "stream",
     "text": [
      "419999.99999999994\n"
     ]
    }
   ],
   "source": [
    "v = 70\n",
    "t = 6\n",
    "s = (v / 3.6) * (t * 3600)\n",
    "print(s)"
   ]
  },
  {
   "cell_type": "code",
   "execution_count": null,
   "metadata": {},
   "outputs": [],
   "source": []
  }
 ],
 "metadata": {
  "kernelspec": {
   "display_name": "Python 3",
   "language": "python",
   "name": "python3"
  },
  "language_info": {
   "codemirror_mode": {
    "name": "ipython",
    "version": 3
   },
   "file_extension": ".py",
   "mimetype": "text/x-python",
   "name": "python",
   "nbconvert_exporter": "python",
   "pygments_lexer": "ipython3",
   "version": "3.7.1"
  }
 },
 "nbformat": 4,
 "nbformat_minor": 2
}
